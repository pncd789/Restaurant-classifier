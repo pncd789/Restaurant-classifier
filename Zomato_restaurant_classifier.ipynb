{
  "cells": [
    {
      "cell_type": "markdown",
      "metadata": {
        "id": "view-in-github",
        "colab_type": "text"
      },
      "source": [
        "<a href=\"https://colab.research.google.com/github/pncd789/Restaurant-classifier/blob/main/Zomato_restaurant_classifier.ipynb\" target=\"_parent\"><img src=\"https://colab.research.google.com/assets/colab-badge.svg\" alt=\"Open In Colab\"/></a>"
      ]
    },
    {
      "cell_type": "code",
      "execution_count": null,
      "id": "2d1a04a4",
      "metadata": {
        "_cell_guid": "b1076dfc-b9ad-4769-8c92-a6c4dae69d19",
        "_uuid": "8f2839f25d086af736a60e9eeb907d3b93b6e0e5",
        "execution": {
          "iopub.execute_input": "2021-12-26T08:03:22.013818Z",
          "iopub.status.busy": "2021-12-26T08:03:22.013168Z",
          "iopub.status.idle": "2021-12-26T08:03:22.027185Z",
          "shell.execute_reply": "2021-12-26T08:03:22.026321Z",
          "shell.execute_reply.started": "2021-12-25T23:25:19.308165Z"
        },
        "papermill": {
          "duration": 0.094475,
          "end_time": "2021-12-26T08:03:22.027365",
          "exception": false,
          "start_time": "2021-12-26T08:03:21.932890",
          "status": "completed"
        },
        "tags": [],
        "id": "2d1a04a4",
        "outputId": "878678fc-1483-4f27-83d0-911b9d4d841a"
      },
      "outputs": [
        {
          "name": "stdout",
          "output_type": "stream",
          "text": [
            "/kaggle/input/zomato-bangalore-restaurants/zomato.csv\n"
          ]
        }
      ],
      "source": [
        "import os\n",
        "for dirname, _, filenames in os.walk('/kaggle/input'):\n",
        "    for filename in filenames:\n",
        "        print(os.path.join(dirname, filename))\n",
        "\n",
        "# You can write up to 20GB to the current directory (/kaggle/working/) that gets preserved as output when you create a version using \"Save & Run All\" \n",
        "# You can also write temporary files to /kaggle/temp/, but they won't be saved outside of the current session"
      ]
    },
    {
      "cell_type": "markdown",
      "id": "84d22e75",
      "metadata": {
        "papermill": {
          "duration": 0.06382,
          "end_time": "2021-12-26T08:03:22.156479",
          "exception": false,
          "start_time": "2021-12-26T08:03:22.092659",
          "status": "completed"
        },
        "tags": [],
        "id": "84d22e75"
      },
      "source": [
        "This dataset contains restaurants registered in the Zomato website and found in Bengaluru, India which is the IT capital of India. There are a lot of factors that go into starting a restaurant and with plenty of competition, it has become even harder than ever to create a successful one. With high capital commitment, it is important to be able to gauge whether or not your restaurant will be considered as good or not by the customers. The goal of this is to: \n",
        "* Explore the data \n",
        "* Clean up any missing values\n",
        "* Visualize the data in order to find relationships for feature creation\n",
        "* Create new features\n",
        "* Create a model that will predict whether a restaurant will be considered good or not."
      ]
    },
    {
      "cell_type": "markdown",
      "id": "e3a369a1",
      "metadata": {
        "papermill": {
          "duration": 0.063374,
          "end_time": "2021-12-26T08:03:22.283698",
          "exception": false,
          "start_time": "2021-12-26T08:03:22.220324",
          "status": "completed"
        },
        "tags": [],
        "id": "e3a369a1"
      },
      "source": [
        "# 1 Import Libraries"
      ]
    },
    {
      "cell_type": "code",
      "execution_count": null,
      "id": "24a9b121",
      "metadata": {
        "execution": {
          "iopub.execute_input": "2021-12-26T08:03:22.420730Z",
          "iopub.status.busy": "2021-12-26T08:03:22.420009Z",
          "iopub.status.idle": "2021-12-26T08:03:23.919622Z",
          "shell.execute_reply": "2021-12-26T08:03:23.920158Z",
          "shell.execute_reply.started": "2021-12-25T23:25:19.347211Z"
        },
        "papermill": {
          "duration": 1.572888,
          "end_time": "2021-12-26T08:03:23.920358",
          "exception": false,
          "start_time": "2021-12-26T08:03:22.347470",
          "status": "completed"
        },
        "tags": [],
        "id": "24a9b121"
      },
      "outputs": [],
      "source": [
        "# data analysis and wrangling\n",
        "import pandas as pd\n",
        "import numpy as np\n",
        "import random as rnd\n",
        "\n",
        "# visualization\n",
        "import seaborn as sns\n",
        "import matplotlib.pyplot as plt\n",
        "%matplotlib inline\n",
        "\n",
        "# machine learning\n",
        "from sklearn.ensemble import RandomForestClassifier\n",
        "from sklearn.pipeline import Pipeline\n",
        "from xgboost import XGBClassifier\n",
        "from sklearn.compose import ColumnTransformer\n",
        "from sklearn.metrics import accuracy_score\n",
        "from sklearn.model_selection import train_test_split\n",
        "from sklearn.preprocessing import LabelEncoder\n",
        "from sklearn.tree import DecisionTreeClassifier"
      ]
    },
    {
      "cell_type": "markdown",
      "id": "4c87a0b9",
      "metadata": {
        "papermill": {
          "duration": 0.063674,
          "end_time": "2021-12-26T08:03:24.050131",
          "exception": false,
          "start_time": "2021-12-26T08:03:23.986457",
          "status": "completed"
        },
        "tags": [],
        "id": "4c87a0b9"
      },
      "source": [
        "### Column description\n",
        "\n",
        "url - url of the restaurants\n",
        "\n",
        "address - address of the restaurant in Bengaluru\n",
        "\n",
        "name - name of the restaurant\n",
        "\n",
        "online_order - whether online ordering is available in the restaurant or not\n",
        "\n",
        "book_table - whether table book option available or not\n",
        "\n",
        "rate - rating of the restaurant out of 5\n",
        "\n",
        "votes - total number of rating for the restaurant\n",
        "\n",
        "phone - phone number of the restaurant\n",
        "\n",
        "location - neighborhood in which the restaurant is located\n",
        "\n",
        "rest_type - restaurant type\n",
        "\n",
        "dish_liked - dishes people liked in the restaurant\n",
        "\n",
        "cuisines - food styles, separated by comma\n",
        "\n",
        "approx_cost(for two people) - contains the approximate cost for meal for two people\n",
        "\n",
        "reviews_list - list of tuples containing reviews for the restaurant, each tuple\n",
        "\n",
        "menu_item - list of menus available in the restaurant\n",
        "\n",
        "listed_in(type) - type of meal\n",
        "\n",
        "listed_in(city) - contains the neighborhood in which the restaurant is listed"
      ]
    },
    {
      "cell_type": "code",
      "execution_count": null,
      "id": "9ac04976",
      "metadata": {
        "execution": {
          "iopub.execute_input": "2021-12-26T08:03:24.182352Z",
          "iopub.status.busy": "2021-12-26T08:03:24.181656Z",
          "iopub.status.idle": "2021-12-26T08:03:35.422935Z",
          "shell.execute_reply": "2021-12-26T08:03:35.422259Z",
          "shell.execute_reply.started": "2021-12-25T23:25:20.898159Z"
        },
        "papermill": {
          "duration": 11.309123,
          "end_time": "2021-12-26T08:03:35.423103",
          "exception": false,
          "start_time": "2021-12-26T08:03:24.113980",
          "status": "completed"
        },
        "tags": [],
        "id": "9ac04976"
      },
      "outputs": [],
      "source": [
        "df=pd.read_csv(\"../input/zomato-bangalore-restaurants/zomato.csv\")"
      ]
    },
    {
      "cell_type": "markdown",
      "id": "606924a8",
      "metadata": {
        "papermill": {
          "duration": 0.063546,
          "end_time": "2021-12-26T08:03:35.551287",
          "exception": false,
          "start_time": "2021-12-26T08:03:35.487741",
          "status": "completed"
        },
        "tags": [],
        "id": "606924a8"
      },
      "source": [
        "#### Brief overview of the data"
      ]
    },
    {
      "cell_type": "code",
      "execution_count": null,
      "id": "df43c274",
      "metadata": {
        "execution": {
          "iopub.execute_input": "2021-12-26T08:03:35.783135Z",
          "iopub.status.busy": "2021-12-26T08:03:35.782428Z",
          "iopub.status.idle": "2021-12-26T08:03:35.804559Z",
          "shell.execute_reply": "2021-12-26T08:03:35.805087Z",
          "shell.execute_reply.started": "2021-12-25T23:25:32.19039Z"
        },
        "papermill": {
          "duration": 0.188876,
          "end_time": "2021-12-26T08:03:35.805264",
          "exception": false,
          "start_time": "2021-12-26T08:03:35.616388",
          "status": "completed"
        },
        "tags": [],
        "id": "df43c274",
        "outputId": "082ea38c-255c-4ed3-9aad-b78d084c2d0b"
      },
      "outputs": [
        {
          "name": "stdout",
          "output_type": "stream",
          "text": [
            "<class 'pandas.core.frame.DataFrame'>\n",
            "RangeIndex: 51717 entries, 0 to 51716\n",
            "Data columns (total 17 columns):\n",
            " #   Column                       Non-Null Count  Dtype \n",
            "---  ------                       --------------  ----- \n",
            " 0   url                          51717 non-null  object\n",
            " 1   address                      51717 non-null  object\n",
            " 2   name                         51717 non-null  object\n",
            " 3   online_order                 51717 non-null  object\n",
            " 4   book_table                   51717 non-null  object\n",
            " 5   rate                         43942 non-null  object\n",
            " 6   votes                        51717 non-null  int64 \n",
            " 7   phone                        50509 non-null  object\n",
            " 8   location                     51696 non-null  object\n",
            " 9   rest_type                    51490 non-null  object\n",
            " 10  dish_liked                   23639 non-null  object\n",
            " 11  cuisines                     51672 non-null  object\n",
            " 12  approx_cost(for two people)  51371 non-null  object\n",
            " 13  reviews_list                 51717 non-null  object\n",
            " 14  menu_item                    51717 non-null  object\n",
            " 15  listed_in(type)              51717 non-null  object\n",
            " 16  listed_in(city)              51717 non-null  object\n",
            "dtypes: int64(1), object(16)\n",
            "memory usage: 6.7+ MB\n"
          ]
        }
      ],
      "source": [
        "df.info()"
      ]
    },
    {
      "cell_type": "code",
      "execution_count": null,
      "id": "ebb4e8ff",
      "metadata": {
        "execution": {
          "iopub.execute_input": "2021-12-26T08:03:35.942511Z",
          "iopub.status.busy": "2021-12-26T08:03:35.941623Z",
          "iopub.status.idle": "2021-12-26T08:03:35.945465Z",
          "shell.execute_reply": "2021-12-26T08:03:35.946000Z",
          "shell.execute_reply.started": "2021-12-25T23:25:32.314364Z"
        },
        "papermill": {
          "duration": 0.076168,
          "end_time": "2021-12-26T08:03:35.946179",
          "exception": false,
          "start_time": "2021-12-26T08:03:35.870011",
          "status": "completed"
        },
        "tags": [],
        "id": "ebb4e8ff",
        "outputId": "b47cd340-4c05-4abd-98ad-0bd36d62c541"
      },
      "outputs": [
        {
          "data": {
            "text/plain": [
              "(51717, 17)"
            ]
          },
          "execution_count": 5,
          "metadata": {},
          "output_type": "execute_result"
        }
      ],
      "source": [
        "df.shape"
      ]
    },
    {
      "cell_type": "code",
      "execution_count": null,
      "id": "c1c5f240",
      "metadata": {
        "execution": {
          "iopub.execute_input": "2021-12-26T08:03:36.082949Z",
          "iopub.status.busy": "2021-12-26T08:03:36.081902Z",
          "iopub.status.idle": "2021-12-26T08:03:36.103222Z",
          "shell.execute_reply": "2021-12-26T08:03:36.103743Z",
          "shell.execute_reply.started": "2021-12-25T23:25:32.324746Z"
        },
        "papermill": {
          "duration": 0.092924,
          "end_time": "2021-12-26T08:03:36.103936",
          "exception": false,
          "start_time": "2021-12-26T08:03:36.011012",
          "status": "completed"
        },
        "tags": [],
        "id": "c1c5f240",
        "outputId": "e75d3ba6-454c-4b15-9e5d-b03c96c32ffd"
      },
      "outputs": [
        {
          "data": {
            "text/html": [
              "<div>\n",
              "<style scoped>\n",
              "    .dataframe tbody tr th:only-of-type {\n",
              "        vertical-align: middle;\n",
              "    }\n",
              "\n",
              "    .dataframe tbody tr th {\n",
              "        vertical-align: top;\n",
              "    }\n",
              "\n",
              "    .dataframe thead th {\n",
              "        text-align: right;\n",
              "    }\n",
              "</style>\n",
              "<table border=\"1\" class=\"dataframe\">\n",
              "  <thead>\n",
              "    <tr style=\"text-align: right;\">\n",
              "      <th></th>\n",
              "      <th>url</th>\n",
              "      <th>address</th>\n",
              "      <th>name</th>\n",
              "      <th>online_order</th>\n",
              "      <th>book_table</th>\n",
              "      <th>rate</th>\n",
              "      <th>votes</th>\n",
              "      <th>phone</th>\n",
              "      <th>location</th>\n",
              "      <th>rest_type</th>\n",
              "      <th>dish_liked</th>\n",
              "      <th>cuisines</th>\n",
              "      <th>approx_cost(for two people)</th>\n",
              "      <th>reviews_list</th>\n",
              "      <th>menu_item</th>\n",
              "      <th>listed_in(type)</th>\n",
              "      <th>listed_in(city)</th>\n",
              "    </tr>\n",
              "  </thead>\n",
              "  <tbody>\n",
              "    <tr>\n",
              "      <th>0</th>\n",
              "      <td>https://www.zomato.com/bangalore/jalsa-banasha...</td>\n",
              "      <td>942, 21st Main Road, 2nd Stage, Banashankari, ...</td>\n",
              "      <td>Jalsa</td>\n",
              "      <td>Yes</td>\n",
              "      <td>Yes</td>\n",
              "      <td>4.1/5</td>\n",
              "      <td>775</td>\n",
              "      <td>080 42297555\\r\\n+91 9743772233</td>\n",
              "      <td>Banashankari</td>\n",
              "      <td>Casual Dining</td>\n",
              "      <td>Pasta, Lunch Buffet, Masala Papad, Paneer Laja...</td>\n",
              "      <td>North Indian, Mughlai, Chinese</td>\n",
              "      <td>800</td>\n",
              "      <td>[('Rated 4.0', 'RATED\\n  A beautiful place to ...</td>\n",
              "      <td>[]</td>\n",
              "      <td>Buffet</td>\n",
              "      <td>Banashankari</td>\n",
              "    </tr>\n",
              "    <tr>\n",
              "      <th>1</th>\n",
              "      <td>https://www.zomato.com/bangalore/spice-elephan...</td>\n",
              "      <td>2nd Floor, 80 Feet Road, Near Big Bazaar, 6th ...</td>\n",
              "      <td>Spice Elephant</td>\n",
              "      <td>Yes</td>\n",
              "      <td>No</td>\n",
              "      <td>4.1/5</td>\n",
              "      <td>787</td>\n",
              "      <td>080 41714161</td>\n",
              "      <td>Banashankari</td>\n",
              "      <td>Casual Dining</td>\n",
              "      <td>Momos, Lunch Buffet, Chocolate Nirvana, Thai G...</td>\n",
              "      <td>Chinese, North Indian, Thai</td>\n",
              "      <td>800</td>\n",
              "      <td>[('Rated 4.0', 'RATED\\n  Had been here for din...</td>\n",
              "      <td>[]</td>\n",
              "      <td>Buffet</td>\n",
              "      <td>Banashankari</td>\n",
              "    </tr>\n",
              "    <tr>\n",
              "      <th>2</th>\n",
              "      <td>https://www.zomato.com/SanchurroBangalore?cont...</td>\n",
              "      <td>1112, Next to KIMS Medical College, 17th Cross...</td>\n",
              "      <td>San Churro Cafe</td>\n",
              "      <td>Yes</td>\n",
              "      <td>No</td>\n",
              "      <td>3.8/5</td>\n",
              "      <td>918</td>\n",
              "      <td>+91 9663487993</td>\n",
              "      <td>Banashankari</td>\n",
              "      <td>Cafe, Casual Dining</td>\n",
              "      <td>Churros, Cannelloni, Minestrone Soup, Hot Choc...</td>\n",
              "      <td>Cafe, Mexican, Italian</td>\n",
              "      <td>800</td>\n",
              "      <td>[('Rated 3.0', \"RATED\\n  Ambience is not that ...</td>\n",
              "      <td>[]</td>\n",
              "      <td>Buffet</td>\n",
              "      <td>Banashankari</td>\n",
              "    </tr>\n",
              "    <tr>\n",
              "      <th>3</th>\n",
              "      <td>https://www.zomato.com/bangalore/addhuri-udupi...</td>\n",
              "      <td>1st Floor, Annakuteera, 3rd Stage, Banashankar...</td>\n",
              "      <td>Addhuri Udupi Bhojana</td>\n",
              "      <td>No</td>\n",
              "      <td>No</td>\n",
              "      <td>3.7/5</td>\n",
              "      <td>88</td>\n",
              "      <td>+91 9620009302</td>\n",
              "      <td>Banashankari</td>\n",
              "      <td>Quick Bites</td>\n",
              "      <td>Masala Dosa</td>\n",
              "      <td>South Indian, North Indian</td>\n",
              "      <td>300</td>\n",
              "      <td>[('Rated 4.0', \"RATED\\n  Great food and proper...</td>\n",
              "      <td>[]</td>\n",
              "      <td>Buffet</td>\n",
              "      <td>Banashankari</td>\n",
              "    </tr>\n",
              "    <tr>\n",
              "      <th>4</th>\n",
              "      <td>https://www.zomato.com/bangalore/grand-village...</td>\n",
              "      <td>10, 3rd Floor, Lakshmi Associates, Gandhi Baza...</td>\n",
              "      <td>Grand Village</td>\n",
              "      <td>No</td>\n",
              "      <td>No</td>\n",
              "      <td>3.8/5</td>\n",
              "      <td>166</td>\n",
              "      <td>+91 8026612447\\r\\n+91 9901210005</td>\n",
              "      <td>Basavanagudi</td>\n",
              "      <td>Casual Dining</td>\n",
              "      <td>Panipuri, Gol Gappe</td>\n",
              "      <td>North Indian, Rajasthani</td>\n",
              "      <td>600</td>\n",
              "      <td>[('Rated 4.0', 'RATED\\n  Very good restaurant ...</td>\n",
              "      <td>[]</td>\n",
              "      <td>Buffet</td>\n",
              "      <td>Banashankari</td>\n",
              "    </tr>\n",
              "    <tr>\n",
              "      <th>5</th>\n",
              "      <td>https://www.zomato.com/bangalore/timepass-dinn...</td>\n",
              "      <td>37, 5-1, 4th Floor, Bosco Court, Gandhi Bazaar...</td>\n",
              "      <td>Timepass Dinner</td>\n",
              "      <td>Yes</td>\n",
              "      <td>No</td>\n",
              "      <td>3.8/5</td>\n",
              "      <td>286</td>\n",
              "      <td>+91 9980040002\\r\\n+91 9980063005</td>\n",
              "      <td>Basavanagudi</td>\n",
              "      <td>Casual Dining</td>\n",
              "      <td>Onion Rings, Pasta, Kadhai Paneer, Salads, Sal...</td>\n",
              "      <td>North Indian</td>\n",
              "      <td>600</td>\n",
              "      <td>[('Rated 3.0', 'RATED\\n  Food 3/5\\nAmbience 3/...</td>\n",
              "      <td>[]</td>\n",
              "      <td>Buffet</td>\n",
              "      <td>Banashankari</td>\n",
              "    </tr>\n",
              "  </tbody>\n",
              "</table>\n",
              "</div>"
            ],
            "text/plain": [
              "                                                 url  \\\n",
              "0  https://www.zomato.com/bangalore/jalsa-banasha...   \n",
              "1  https://www.zomato.com/bangalore/spice-elephan...   \n",
              "2  https://www.zomato.com/SanchurroBangalore?cont...   \n",
              "3  https://www.zomato.com/bangalore/addhuri-udupi...   \n",
              "4  https://www.zomato.com/bangalore/grand-village...   \n",
              "5  https://www.zomato.com/bangalore/timepass-dinn...   \n",
              "\n",
              "                                             address                   name  \\\n",
              "0  942, 21st Main Road, 2nd Stage, Banashankari, ...                  Jalsa   \n",
              "1  2nd Floor, 80 Feet Road, Near Big Bazaar, 6th ...         Spice Elephant   \n",
              "2  1112, Next to KIMS Medical College, 17th Cross...        San Churro Cafe   \n",
              "3  1st Floor, Annakuteera, 3rd Stage, Banashankar...  Addhuri Udupi Bhojana   \n",
              "4  10, 3rd Floor, Lakshmi Associates, Gandhi Baza...          Grand Village   \n",
              "5  37, 5-1, 4th Floor, Bosco Court, Gandhi Bazaar...        Timepass Dinner   \n",
              "\n",
              "  online_order book_table   rate  votes                             phone  \\\n",
              "0          Yes        Yes  4.1/5    775    080 42297555\\r\\n+91 9743772233   \n",
              "1          Yes         No  4.1/5    787                      080 41714161   \n",
              "2          Yes         No  3.8/5    918                    +91 9663487993   \n",
              "3           No         No  3.7/5     88                    +91 9620009302   \n",
              "4           No         No  3.8/5    166  +91 8026612447\\r\\n+91 9901210005   \n",
              "5          Yes         No  3.8/5    286  +91 9980040002\\r\\n+91 9980063005   \n",
              "\n",
              "       location            rest_type  \\\n",
              "0  Banashankari        Casual Dining   \n",
              "1  Banashankari        Casual Dining   \n",
              "2  Banashankari  Cafe, Casual Dining   \n",
              "3  Banashankari          Quick Bites   \n",
              "4  Basavanagudi        Casual Dining   \n",
              "5  Basavanagudi        Casual Dining   \n",
              "\n",
              "                                          dish_liked  \\\n",
              "0  Pasta, Lunch Buffet, Masala Papad, Paneer Laja...   \n",
              "1  Momos, Lunch Buffet, Chocolate Nirvana, Thai G...   \n",
              "2  Churros, Cannelloni, Minestrone Soup, Hot Choc...   \n",
              "3                                        Masala Dosa   \n",
              "4                                Panipuri, Gol Gappe   \n",
              "5  Onion Rings, Pasta, Kadhai Paneer, Salads, Sal...   \n",
              "\n",
              "                         cuisines approx_cost(for two people)  \\\n",
              "0  North Indian, Mughlai, Chinese                         800   \n",
              "1     Chinese, North Indian, Thai                         800   \n",
              "2          Cafe, Mexican, Italian                         800   \n",
              "3      South Indian, North Indian                         300   \n",
              "4        North Indian, Rajasthani                         600   \n",
              "5                    North Indian                         600   \n",
              "\n",
              "                                        reviews_list menu_item  \\\n",
              "0  [('Rated 4.0', 'RATED\\n  A beautiful place to ...        []   \n",
              "1  [('Rated 4.0', 'RATED\\n  Had been here for din...        []   \n",
              "2  [('Rated 3.0', \"RATED\\n  Ambience is not that ...        []   \n",
              "3  [('Rated 4.0', \"RATED\\n  Great food and proper...        []   \n",
              "4  [('Rated 4.0', 'RATED\\n  Very good restaurant ...        []   \n",
              "5  [('Rated 3.0', 'RATED\\n  Food 3/5\\nAmbience 3/...        []   \n",
              "\n",
              "  listed_in(type) listed_in(city)  \n",
              "0          Buffet    Banashankari  \n",
              "1          Buffet    Banashankari  \n",
              "2          Buffet    Banashankari  \n",
              "3          Buffet    Banashankari  \n",
              "4          Buffet    Banashankari  \n",
              "5          Buffet    Banashankari  "
            ]
          },
          "execution_count": 6,
          "metadata": {},
          "output_type": "execute_result"
        }
      ],
      "source": [
        "df.head(6)"
      ]
    },
    {
      "cell_type": "markdown",
      "id": "9481e789",
      "metadata": {
        "papermill": {
          "duration": 0.06534,
          "end_time": "2021-12-26T08:03:36.234243",
          "exception": false,
          "start_time": "2021-12-26T08:03:36.168903",
          "status": "completed"
        },
        "tags": [],
        "id": "9481e789"
      },
      "source": [
        "# Data Exploration and Cleaning\n",
        "Initially we see here that the type of some columns are objects when they should be numeric like rate and approx_cost(for two people). There are also clearly some null values present. I am going to:\n",
        "* convert the datatype of those columns to a float and then check for how many values are present in each column. \n",
        "* I'll also be renaming some columns to something that is easier to use when working with the dataset."
      ]
    },
    {
      "cell_type": "code",
      "execution_count": null,
      "id": "30e4c9d3",
      "metadata": {
        "execution": {
          "iopub.execute_input": "2021-12-26T08:03:36.377687Z",
          "iopub.status.busy": "2021-12-26T08:03:36.376996Z",
          "iopub.status.idle": "2021-12-26T08:03:36.672232Z",
          "shell.execute_reply": "2021-12-26T08:03:36.671577Z",
          "shell.execute_reply.started": "2021-12-25T23:25:32.356282Z"
        },
        "papermill": {
          "duration": 0.372809,
          "end_time": "2021-12-26T08:03:36.672383",
          "exception": false,
          "start_time": "2021-12-26T08:03:36.299574",
          "status": "completed"
        },
        "tags": [],
        "id": "30e4c9d3"
      },
      "outputs": [],
      "source": [
        "#the rate column is over 5, which means we first have to parse out the /5 part of each row\n",
        "df['rate'] = df['rate'].str.split('/', expand = True)[0]\n",
        "\n",
        "# upon further inspection, the data cannot immediately be converted to a float because there are some entries with values 'NEW' and '-'\n",
        "#I am going to convert those to null values first\n",
        "df['rate'] = df['rate'].str.replace('NEW', str(np.nan))\n",
        "df['rate'] = df['rate'].str.replace('-', str(np.nan))\n",
        "df['rate'] = df['rate'].astype(float)\n",
        "#df['rate'] = df['rate'].str.apply(lambda x: x.replace('-', str(np.nan)))"
      ]
    },
    {
      "cell_type": "code",
      "execution_count": null,
      "id": "501eb021",
      "metadata": {
        "execution": {
          "iopub.execute_input": "2021-12-26T08:03:36.823115Z",
          "iopub.status.busy": "2021-12-26T08:03:36.815509Z",
          "iopub.status.idle": "2021-12-26T08:03:36.867154Z",
          "shell.execute_reply": "2021-12-26T08:03:36.866444Z",
          "shell.execute_reply.started": "2021-12-25T23:25:32.660274Z"
        },
        "papermill": {
          "duration": 0.129282,
          "end_time": "2021-12-26T08:03:36.867297",
          "exception": false,
          "start_time": "2021-12-26T08:03:36.738015",
          "status": "completed"
        },
        "tags": [],
        "id": "501eb021"
      },
      "outputs": [],
      "source": [
        "#convert approx_cost(for two people) to float and rename it to make it easier to use\n",
        "df.rename(columns={'approx_cost(for two people)':'cost_for_two'}, inplace = True)\n",
        "\n",
        "#some values have commas so we'll have to remove those first\n",
        "df.cost_for_two = df.cost_for_two.str.replace(',', '', True)\n",
        "df.cost_for_two = df.cost_for_two.astype(float)"
      ]
    },
    {
      "cell_type": "code",
      "execution_count": null,
      "id": "1a6eba95",
      "metadata": {
        "execution": {
          "iopub.execute_input": "2021-12-26T08:03:37.003198Z",
          "iopub.status.busy": "2021-12-26T08:03:37.002514Z",
          "iopub.status.idle": "2021-12-26T08:03:37.006577Z",
          "shell.execute_reply": "2021-12-26T08:03:37.007139Z",
          "shell.execute_reply.started": "2021-12-25T23:25:32.723417Z"
        },
        "papermill": {
          "duration": 0.073462,
          "end_time": "2021-12-26T08:03:37.007318",
          "exception": false,
          "start_time": "2021-12-26T08:03:36.933856",
          "status": "completed"
        },
        "tags": [],
        "id": "1a6eba95"
      },
      "outputs": [],
      "source": [
        "# Rename some columns to make it easier to work with\n",
        "df.rename(columns={'listed_in(type)':'list_type', 'listed_in(city)':'list_city'}, inplace = True)"
      ]
    },
    {
      "cell_type": "markdown",
      "id": "3cdfc6ab",
      "metadata": {
        "papermill": {
          "duration": 0.066705,
          "end_time": "2021-12-26T08:03:37.140455",
          "exception": false,
          "start_time": "2021-12-26T08:03:37.073750",
          "status": "completed"
        },
        "tags": [],
        "id": "3cdfc6ab"
      },
      "source": [
        "Now that we have transformed these columns we can now move on to identifying the null values."
      ]
    },
    {
      "cell_type": "code",
      "execution_count": null,
      "id": "3efc9796",
      "metadata": {
        "execution": {
          "iopub.execute_input": "2021-12-26T08:03:37.275023Z",
          "iopub.status.busy": "2021-12-26T08:03:37.274337Z",
          "iopub.status.idle": "2021-12-26T08:03:37.365633Z",
          "shell.execute_reply": "2021-12-26T08:03:37.365054Z",
          "shell.execute_reply.started": "2021-12-25T23:25:32.730665Z"
        },
        "papermill": {
          "duration": 0.160124,
          "end_time": "2021-12-26T08:03:37.365780",
          "exception": false,
          "start_time": "2021-12-26T08:03:37.205656",
          "status": "completed"
        },
        "tags": [],
        "id": "3efc9796",
        "outputId": "e5e3b7ba-dfb4-4910-dcf7-89708117946b"
      },
      "outputs": [
        {
          "data": {
            "text/plain": [
              "url                 0\n",
              "address             0\n",
              "name                0\n",
              "online_order        0\n",
              "book_table          0\n",
              "rate            10052\n",
              "votes               0\n",
              "phone            1208\n",
              "location           21\n",
              "rest_type         227\n",
              "dish_liked      28078\n",
              "cuisines           45\n",
              "cost_for_two      346\n",
              "reviews_list        0\n",
              "menu_item           0\n",
              "list_type           0\n",
              "list_city           0\n",
              "dtype: int64"
            ]
          },
          "execution_count": 10,
          "metadata": {},
          "output_type": "execute_result"
        }
      ],
      "source": [
        "df.isnull().sum()"
      ]
    },
    {
      "cell_type": "markdown",
      "id": "0b9e2a77",
      "metadata": {
        "papermill": {
          "duration": 0.066384,
          "end_time": "2021-12-26T08:03:37.498470",
          "exception": false,
          "start_time": "2021-12-26T08:03:37.432086",
          "status": "completed"
        },
        "tags": [],
        "id": "0b9e2a77"
      },
      "source": [
        "We can see a large amount of nuull values in rate and dish_liked. There are a few potential reasons for this. Maybe the restaurant is new and has not received ratings yet or maybe some of the customers skipped over it when reviewing the restaurant. For dish_liked, it is possible that the reviewer did not like any of the dishes, maybe he/she could not choose one or maybe the restaurant has not been reviewed yet. \n",
        "\n",
        "* For dishes liked, more than half of the rows are null, so I'm just going to drop the column, since the column itself also probably won't have a great effect on the dataset anyway.\n",
        "* For rate, we can see in the reviews_list that every review starts with a rating, so we are just going to extract that. For those without any reviews, we can just drop them.\n",
        "* The other null values are smaller in number and I will deal with each of them separately."
      ]
    },
    {
      "cell_type": "code",
      "execution_count": null,
      "id": "b6e5f201",
      "metadata": {
        "execution": {
          "iopub.execute_input": "2021-12-26T08:03:37.635073Z",
          "iopub.status.busy": "2021-12-26T08:03:37.634432Z",
          "iopub.status.idle": "2021-12-26T08:03:37.654203Z",
          "shell.execute_reply": "2021-12-26T08:03:37.654739Z",
          "shell.execute_reply.started": "2021-12-25T23:25:32.828953Z"
        },
        "papermill": {
          "duration": 0.089975,
          "end_time": "2021-12-26T08:03:37.654934",
          "exception": false,
          "start_time": "2021-12-26T08:03:37.564959",
          "status": "completed"
        },
        "tags": [],
        "id": "b6e5f201"
      },
      "outputs": [],
      "source": [
        "# Dropped the dish_liked column\n",
        "df.drop(axis=1, columns='dish_liked', inplace = True)"
      ]
    },
    {
      "cell_type": "code",
      "execution_count": null,
      "id": "8064680c",
      "metadata": {
        "execution": {
          "iopub.execute_input": "2021-12-26T08:03:37.789950Z",
          "iopub.status.busy": "2021-12-26T08:03:37.789240Z",
          "iopub.status.idle": "2021-12-26T08:03:37.820893Z",
          "shell.execute_reply": "2021-12-26T08:03:37.821451Z",
          "shell.execute_reply.started": "2021-12-26T07:24:25.282719Z"
        },
        "papermill": {
          "duration": 0.100904,
          "end_time": "2021-12-26T08:03:37.821624",
          "exception": false,
          "start_time": "2021-12-26T08:03:37.720720",
          "status": "completed"
        },
        "tags": [],
        "id": "8064680c",
        "outputId": "c2a50a68-da1a-4c02-9cac-de3364d554df"
      },
      "outputs": [
        {
          "data": {
            "text/html": [
              "<div>\n",
              "<style scoped>\n",
              "    .dataframe tbody tr th:only-of-type {\n",
              "        vertical-align: middle;\n",
              "    }\n",
              "\n",
              "    .dataframe tbody tr th {\n",
              "        vertical-align: top;\n",
              "    }\n",
              "\n",
              "    .dataframe thead th {\n",
              "        text-align: right;\n",
              "    }\n",
              "</style>\n",
              "<table border=\"1\" class=\"dataframe\">\n",
              "  <thead>\n",
              "    <tr style=\"text-align: right;\">\n",
              "      <th></th>\n",
              "      <th>url</th>\n",
              "      <th>address</th>\n",
              "      <th>name</th>\n",
              "      <th>online_order</th>\n",
              "      <th>book_table</th>\n",
              "      <th>rate</th>\n",
              "      <th>votes</th>\n",
              "      <th>phone</th>\n",
              "      <th>location</th>\n",
              "      <th>rest_type</th>\n",
              "      <th>cuisines</th>\n",
              "      <th>cost_for_two</th>\n",
              "      <th>reviews_list</th>\n",
              "      <th>menu_item</th>\n",
              "      <th>list_type</th>\n",
              "      <th>list_city</th>\n",
              "    </tr>\n",
              "  </thead>\n",
              "  <tbody>\n",
              "    <tr>\n",
              "      <th>1662</th>\n",
              "      <td>https://www.zomato.com/bangalore/papa-khan-ras...</td>\n",
              "      <td>6, Abbiah Layout KC Halli Main Road, Bommanaha...</td>\n",
              "      <td>Papa Khan Rasoi</td>\n",
              "      <td>No</td>\n",
              "      <td>No</td>\n",
              "      <td>NaN</td>\n",
              "      <td>0</td>\n",
              "      <td>NaN</td>\n",
              "      <td>NaN</td>\n",
              "      <td>NaN</td>\n",
              "      <td>NaN</td>\n",
              "      <td>NaN</td>\n",
              "      <td>[]</td>\n",
              "      <td>[]</td>\n",
              "      <td>Delivery</td>\n",
              "      <td>Bannerghatta Road</td>\n",
              "    </tr>\n",
              "    <tr>\n",
              "      <th>9874</th>\n",
              "      <td>https://www.zomato.com/bangalore/papa-khan-ras...</td>\n",
              "      <td>6, Abbiah Layout KC Halli Main Road, Bommanaha...</td>\n",
              "      <td>Papa Khan Rasoi</td>\n",
              "      <td>No</td>\n",
              "      <td>No</td>\n",
              "      <td>NaN</td>\n",
              "      <td>0</td>\n",
              "      <td>NaN</td>\n",
              "      <td>NaN</td>\n",
              "      <td>NaN</td>\n",
              "      <td>NaN</td>\n",
              "      <td>NaN</td>\n",
              "      <td>[]</td>\n",
              "      <td>[]</td>\n",
              "      <td>Delivery</td>\n",
              "      <td>BTM</td>\n",
              "    </tr>\n",
              "    <tr>\n",
              "      <th>13693</th>\n",
              "      <td>https://www.zomato.com/bangalore/mohabbat-desi...</td>\n",
              "      <td>Chandapura- Anakal Main Road, Oppsite Vemana H...</td>\n",
              "      <td>Mohabbat Desi Restaurant</td>\n",
              "      <td>No</td>\n",
              "      <td>No</td>\n",
              "      <td>NaN</td>\n",
              "      <td>0</td>\n",
              "      <td>NaN</td>\n",
              "      <td>NaN</td>\n",
              "      <td>NaN</td>\n",
              "      <td>NaN</td>\n",
              "      <td>NaN</td>\n",
              "      <td>[]</td>\n",
              "      <td>[]</td>\n",
              "      <td>Delivery</td>\n",
              "      <td>Electronic City</td>\n",
              "    </tr>\n",
              "    <tr>\n",
              "      <th>16351</th>\n",
              "      <td>https://www.zomato.com/bangalore/desi-chatkara...</td>\n",
              "      <td>Kudlu Gate, Bommanahalli, Bangalore</td>\n",
              "      <td>Desi Chatkara</td>\n",
              "      <td>No</td>\n",
              "      <td>No</td>\n",
              "      <td>NaN</td>\n",
              "      <td>0</td>\n",
              "      <td>NaN</td>\n",
              "      <td>NaN</td>\n",
              "      <td>NaN</td>\n",
              "      <td>NaN</td>\n",
              "      <td>NaN</td>\n",
              "      <td>[]</td>\n",
              "      <td>[]</td>\n",
              "      <td>Delivery</td>\n",
              "      <td>HSR</td>\n",
              "    </tr>\n",
              "    <tr>\n",
              "      <th>26432</th>\n",
              "      <td>https://www.zomato.com/bangalore/new-taj-birya...</td>\n",
              "      <td>IB Road, Lorry Stand, Kushaal Nagar, Ward 10, ...</td>\n",
              "      <td>New Taj Biryani Centre</td>\n",
              "      <td>No</td>\n",
              "      <td>No</td>\n",
              "      <td>NaN</td>\n",
              "      <td>0</td>\n",
              "      <td>NaN</td>\n",
              "      <td>NaN</td>\n",
              "      <td>NaN</td>\n",
              "      <td>NaN</td>\n",
              "      <td>NaN</td>\n",
              "      <td>[]</td>\n",
              "      <td>[]</td>\n",
              "      <td>Dine-out</td>\n",
              "      <td>Kammanahalli</td>\n",
              "    </tr>\n",
              "    <tr>\n",
              "      <th>26519</th>\n",
              "      <td>https://www.zomato.com/bangalore/abs-absolute-...</td>\n",
              "      <td>Koramangala 8th Block, Bangalore</td>\n",
              "      <td>AB's - Absolute Barbecues</td>\n",
              "      <td>No</td>\n",
              "      <td>No</td>\n",
              "      <td>NaN</td>\n",
              "      <td>0</td>\n",
              "      <td>NaN</td>\n",
              "      <td>NaN</td>\n",
              "      <td>NaN</td>\n",
              "      <td>NaN</td>\n",
              "      <td>NaN</td>\n",
              "      <td>[]</td>\n",
              "      <td>[]</td>\n",
              "      <td>Buffet</td>\n",
              "      <td>Koramangala 4th Block</td>\n",
              "    </tr>\n",
              "    <tr>\n",
              "      <th>27672</th>\n",
              "      <td>https://www.zomato.com/bangalore/manchow-koram...</td>\n",
              "      <td>6, Kathalipalya Village, 6th Cross, Koramangal...</td>\n",
              "      <td>Manchow</td>\n",
              "      <td>No</td>\n",
              "      <td>No</td>\n",
              "      <td>NaN</td>\n",
              "      <td>0</td>\n",
              "      <td>NaN</td>\n",
              "      <td>NaN</td>\n",
              "      <td>NaN</td>\n",
              "      <td>NaN</td>\n",
              "      <td>NaN</td>\n",
              "      <td>[]</td>\n",
              "      <td>[]</td>\n",
              "      <td>Delivery</td>\n",
              "      <td>Koramangala 4th Block</td>\n",
              "    </tr>\n",
              "    <tr>\n",
              "      <th>28611</th>\n",
              "      <td>https://www.zomato.com/bangalore/manchow-koram...</td>\n",
              "      <td>6, Kathalipalya Village, 6th Cross, Koramangal...</td>\n",
              "      <td>Manchow</td>\n",
              "      <td>No</td>\n",
              "      <td>No</td>\n",
              "      <td>NaN</td>\n",
              "      <td>0</td>\n",
              "      <td>NaN</td>\n",
              "      <td>NaN</td>\n",
              "      <td>NaN</td>\n",
              "      <td>NaN</td>\n",
              "      <td>NaN</td>\n",
              "      <td>[]</td>\n",
              "      <td>[]</td>\n",
              "      <td>Dine-out</td>\n",
              "      <td>Koramangala 4th Block</td>\n",
              "    </tr>\n",
              "    <tr>\n",
              "      <th>29298</th>\n",
              "      <td>https://www.zomato.com/bangalore/abs-absolute-...</td>\n",
              "      <td>Koramangala 8th Block, Bangalore</td>\n",
              "      <td>AB's - Absolute Barbecues</td>\n",
              "      <td>No</td>\n",
              "      <td>No</td>\n",
              "      <td>NaN</td>\n",
              "      <td>0</td>\n",
              "      <td>NaN</td>\n",
              "      <td>NaN</td>\n",
              "      <td>NaN</td>\n",
              "      <td>NaN</td>\n",
              "      <td>NaN</td>\n",
              "      <td>[]</td>\n",
              "      <td>[]</td>\n",
              "      <td>Buffet</td>\n",
              "      <td>Koramangala 5th Block</td>\n",
              "    </tr>\n",
              "    <tr>\n",
              "      <th>30604</th>\n",
              "      <td>https://www.zomato.com/bangalore/manchow-koram...</td>\n",
              "      <td>6, Kathalipalya Village, 6th Cross, Koramangal...</td>\n",
              "      <td>Manchow</td>\n",
              "      <td>No</td>\n",
              "      <td>No</td>\n",
              "      <td>NaN</td>\n",
              "      <td>0</td>\n",
              "      <td>NaN</td>\n",
              "      <td>NaN</td>\n",
              "      <td>NaN</td>\n",
              "      <td>NaN</td>\n",
              "      <td>NaN</td>\n",
              "      <td>[]</td>\n",
              "      <td>[]</td>\n",
              "      <td>Delivery</td>\n",
              "      <td>Koramangala 5th Block</td>\n",
              "    </tr>\n",
              "    <tr>\n",
              "      <th>31400</th>\n",
              "      <td>https://www.zomato.com/bangalore/manchow-koram...</td>\n",
              "      <td>6, Kathalipalya Village, 6th Cross, Koramangal...</td>\n",
              "      <td>Manchow</td>\n",
              "      <td>No</td>\n",
              "      <td>No</td>\n",
              "      <td>NaN</td>\n",
              "      <td>0</td>\n",
              "      <td>NaN</td>\n",
              "      <td>NaN</td>\n",
              "      <td>NaN</td>\n",
              "      <td>NaN</td>\n",
              "      <td>NaN</td>\n",
              "      <td>[]</td>\n",
              "      <td>[]</td>\n",
              "      <td>Dine-out</td>\n",
              "      <td>Koramangala 5th Block</td>\n",
              "    </tr>\n",
              "    <tr>\n",
              "      <th>32131</th>\n",
              "      <td>https://www.zomato.com/bangalore/abs-absolute-...</td>\n",
              "      <td>Koramangala 8th Block, Bangalore</td>\n",
              "      <td>AB's - Absolute Barbecues</td>\n",
              "      <td>No</td>\n",
              "      <td>No</td>\n",
              "      <td>NaN</td>\n",
              "      <td>0</td>\n",
              "      <td>NaN</td>\n",
              "      <td>NaN</td>\n",
              "      <td>NaN</td>\n",
              "      <td>NaN</td>\n",
              "      <td>NaN</td>\n",
              "      <td>[]</td>\n",
              "      <td>[]</td>\n",
              "      <td>Buffet</td>\n",
              "      <td>Koramangala 6th Block</td>\n",
              "    </tr>\n",
              "    <tr>\n",
              "      <th>33457</th>\n",
              "      <td>https://www.zomato.com/bangalore/la-lunch-box-...</td>\n",
              "      <td>80 Feet Road, Koramangala 4th Block, Bangalore</td>\n",
              "      <td>La Lunch Box</td>\n",
              "      <td>No</td>\n",
              "      <td>No</td>\n",
              "      <td>NaN</td>\n",
              "      <td>0</td>\n",
              "      <td>NaN</td>\n",
              "      <td>NaN</td>\n",
              "      <td>NaN</td>\n",
              "      <td>NaN</td>\n",
              "      <td>NaN</td>\n",
              "      <td>[]</td>\n",
              "      <td>[]</td>\n",
              "      <td>Delivery</td>\n",
              "      <td>Koramangala 6th Block</td>\n",
              "    </tr>\n",
              "    <tr>\n",
              "      <th>34755</th>\n",
              "      <td>https://www.zomato.com/bangalore/abs-absolute-...</td>\n",
              "      <td>Koramangala 8th Block, Bangalore</td>\n",
              "      <td>AB's - Absolute Barbecues</td>\n",
              "      <td>No</td>\n",
              "      <td>No</td>\n",
              "      <td>NaN</td>\n",
              "      <td>0</td>\n",
              "      <td>NaN</td>\n",
              "      <td>NaN</td>\n",
              "      <td>NaN</td>\n",
              "      <td>NaN</td>\n",
              "      <td>NaN</td>\n",
              "      <td>[]</td>\n",
              "      <td>[]</td>\n",
              "      <td>Buffet</td>\n",
              "      <td>Koramangala 7th Block</td>\n",
              "    </tr>\n",
              "    <tr>\n",
              "      <th>40354</th>\n",
              "      <td>https://www.zomato.com/bangalore/the-happy-veg...</td>\n",
              "      <td>399/34, 19th Main, Near Navarang Theatre, 2nd ...</td>\n",
              "      <td>The Happy Vegetarian</td>\n",
              "      <td>No</td>\n",
              "      <td>No</td>\n",
              "      <td>NaN</td>\n",
              "      <td>0</td>\n",
              "      <td>NaN</td>\n",
              "      <td>NaN</td>\n",
              "      <td>NaN</td>\n",
              "      <td>NaN</td>\n",
              "      <td>NaN</td>\n",
              "      <td>[]</td>\n",
              "      <td>[]</td>\n",
              "      <td>Dine-out</td>\n",
              "      <td>Malleshwaram</td>\n",
              "    </tr>\n",
              "    <tr>\n",
              "      <th>40556</th>\n",
              "      <td>https://www.zomato.com/bangalore/risalo-restau...</td>\n",
              "      <td>1630, 6th Main Road, AECS Layout E Block, Mara...</td>\n",
              "      <td>Risalo Restaurant</td>\n",
              "      <td>No</td>\n",
              "      <td>No</td>\n",
              "      <td>NaN</td>\n",
              "      <td>0</td>\n",
              "      <td>NaN</td>\n",
              "      <td>NaN</td>\n",
              "      <td>NaN</td>\n",
              "      <td>NaN</td>\n",
              "      <td>NaN</td>\n",
              "      <td>[]</td>\n",
              "      <td>[]</td>\n",
              "      <td>Cafes</td>\n",
              "      <td>Marathahalli</td>\n",
              "    </tr>\n",
              "    <tr>\n",
              "      <th>41980</th>\n",
              "      <td>https://www.zomato.com/bangalore/risalo-restau...</td>\n",
              "      <td>1630, 6th Main Road, AECS Layout E Block, Mara...</td>\n",
              "      <td>Risalo Restaurant</td>\n",
              "      <td>No</td>\n",
              "      <td>No</td>\n",
              "      <td>NaN</td>\n",
              "      <td>0</td>\n",
              "      <td>NaN</td>\n",
              "      <td>NaN</td>\n",
              "      <td>NaN</td>\n",
              "      <td>NaN</td>\n",
              "      <td>NaN</td>\n",
              "      <td>[]</td>\n",
              "      <td>[]</td>\n",
              "      <td>Dine-out</td>\n",
              "      <td>Marathahalli</td>\n",
              "    </tr>\n",
              "    <tr>\n",
              "      <th>46586</th>\n",
              "      <td>https://www.zomato.com/bangalore/the-cinema-vi...</td>\n",
              "      <td>9, Magadi Main Road, Cholourpalya, Vijay Nagar</td>\n",
              "      <td>The Cinema</td>\n",
              "      <td>No</td>\n",
              "      <td>No</td>\n",
              "      <td>NaN</td>\n",
              "      <td>0</td>\n",
              "      <td>NaN</td>\n",
              "      <td>NaN</td>\n",
              "      <td>NaN</td>\n",
              "      <td>NaN</td>\n",
              "      <td>NaN</td>\n",
              "      <td>[]</td>\n",
              "      <td>[]</td>\n",
              "      <td>Delivery</td>\n",
              "      <td>Rajajinagar</td>\n",
              "    </tr>\n",
              "    <tr>\n",
              "      <th>46609</th>\n",
              "      <td>https://www.zomato.com/bangalore/grill-biryani...</td>\n",
              "      <td>West of Chord Road, Govindaraja Nagar, Below H...</td>\n",
              "      <td>Grill Biryanis</td>\n",
              "      <td>No</td>\n",
              "      <td>No</td>\n",
              "      <td>NaN</td>\n",
              "      <td>0</td>\n",
              "      <td>NaN</td>\n",
              "      <td>NaN</td>\n",
              "      <td>NaN</td>\n",
              "      <td>NaN</td>\n",
              "      <td>NaN</td>\n",
              "      <td>[]</td>\n",
              "      <td>[]</td>\n",
              "      <td>Delivery</td>\n",
              "      <td>Rajajinagar</td>\n",
              "    </tr>\n",
              "    <tr>\n",
              "      <th>46752</th>\n",
              "      <td>https://www.zomato.com/bangalore/the-happy-veg...</td>\n",
              "      <td>399/34, 19th Main, Near Navarang Theatre, 2nd ...</td>\n",
              "      <td>The Happy Vegetarian</td>\n",
              "      <td>No</td>\n",
              "      <td>No</td>\n",
              "      <td>NaN</td>\n",
              "      <td>0</td>\n",
              "      <td>NaN</td>\n",
              "      <td>NaN</td>\n",
              "      <td>NaN</td>\n",
              "      <td>NaN</td>\n",
              "      <td>NaN</td>\n",
              "      <td>[]</td>\n",
              "      <td>[]</td>\n",
              "      <td>Dine-out</td>\n",
              "      <td>Rajajinagar</td>\n",
              "    </tr>\n",
              "    <tr>\n",
              "      <th>47134</th>\n",
              "      <td>https://www.zomato.com/bangalore/the-cinema-vi...</td>\n",
              "      <td>9, Magadi Main Road, Cholourpalya, Vijay Nagar</td>\n",
              "      <td>The Cinema</td>\n",
              "      <td>No</td>\n",
              "      <td>No</td>\n",
              "      <td>NaN</td>\n",
              "      <td>0</td>\n",
              "      <td>NaN</td>\n",
              "      <td>NaN</td>\n",
              "      <td>NaN</td>\n",
              "      <td>NaN</td>\n",
              "      <td>NaN</td>\n",
              "      <td>[]</td>\n",
              "      <td>[]</td>\n",
              "      <td>Dine-out</td>\n",
              "      <td>Rajajinagar</td>\n",
              "    </tr>\n",
              "  </tbody>\n",
              "</table>\n",
              "</div>"
            ],
            "text/plain": [
              "                                                     url  \\\n",
              "1662   https://www.zomato.com/bangalore/papa-khan-ras...   \n",
              "9874   https://www.zomato.com/bangalore/papa-khan-ras...   \n",
              "13693  https://www.zomato.com/bangalore/mohabbat-desi...   \n",
              "16351  https://www.zomato.com/bangalore/desi-chatkara...   \n",
              "26432  https://www.zomato.com/bangalore/new-taj-birya...   \n",
              "26519  https://www.zomato.com/bangalore/abs-absolute-...   \n",
              "27672  https://www.zomato.com/bangalore/manchow-koram...   \n",
              "28611  https://www.zomato.com/bangalore/manchow-koram...   \n",
              "29298  https://www.zomato.com/bangalore/abs-absolute-...   \n",
              "30604  https://www.zomato.com/bangalore/manchow-koram...   \n",
              "31400  https://www.zomato.com/bangalore/manchow-koram...   \n",
              "32131  https://www.zomato.com/bangalore/abs-absolute-...   \n",
              "33457  https://www.zomato.com/bangalore/la-lunch-box-...   \n",
              "34755  https://www.zomato.com/bangalore/abs-absolute-...   \n",
              "40354  https://www.zomato.com/bangalore/the-happy-veg...   \n",
              "40556  https://www.zomato.com/bangalore/risalo-restau...   \n",
              "41980  https://www.zomato.com/bangalore/risalo-restau...   \n",
              "46586  https://www.zomato.com/bangalore/the-cinema-vi...   \n",
              "46609  https://www.zomato.com/bangalore/grill-biryani...   \n",
              "46752  https://www.zomato.com/bangalore/the-happy-veg...   \n",
              "47134  https://www.zomato.com/bangalore/the-cinema-vi...   \n",
              "\n",
              "                                                 address  \\\n",
              "1662   6, Abbiah Layout KC Halli Main Road, Bommanaha...   \n",
              "9874   6, Abbiah Layout KC Halli Main Road, Bommanaha...   \n",
              "13693  Chandapura- Anakal Main Road, Oppsite Vemana H...   \n",
              "16351                Kudlu Gate, Bommanahalli, Bangalore   \n",
              "26432  IB Road, Lorry Stand, Kushaal Nagar, Ward 10, ...   \n",
              "26519                   Koramangala 8th Block, Bangalore   \n",
              "27672  6, Kathalipalya Village, 6th Cross, Koramangal...   \n",
              "28611  6, Kathalipalya Village, 6th Cross, Koramangal...   \n",
              "29298                   Koramangala 8th Block, Bangalore   \n",
              "30604  6, Kathalipalya Village, 6th Cross, Koramangal...   \n",
              "31400  6, Kathalipalya Village, 6th Cross, Koramangal...   \n",
              "32131                   Koramangala 8th Block, Bangalore   \n",
              "33457     80 Feet Road, Koramangala 4th Block, Bangalore   \n",
              "34755                   Koramangala 8th Block, Bangalore   \n",
              "40354  399/34, 19th Main, Near Navarang Theatre, 2nd ...   \n",
              "40556  1630, 6th Main Road, AECS Layout E Block, Mara...   \n",
              "41980  1630, 6th Main Road, AECS Layout E Block, Mara...   \n",
              "46586     9, Magadi Main Road, Cholourpalya, Vijay Nagar   \n",
              "46609  West of Chord Road, Govindaraja Nagar, Below H...   \n",
              "46752  399/34, 19th Main, Near Navarang Theatre, 2nd ...   \n",
              "47134     9, Magadi Main Road, Cholourpalya, Vijay Nagar   \n",
              "\n",
              "                            name online_order book_table  rate  votes phone  \\\n",
              "1662             Papa Khan Rasoi           No         No   NaN      0   NaN   \n",
              "9874             Papa Khan Rasoi           No         No   NaN      0   NaN   \n",
              "13693   Mohabbat Desi Restaurant           No         No   NaN      0   NaN   \n",
              "16351              Desi Chatkara           No         No   NaN      0   NaN   \n",
              "26432     New Taj Biryani Centre           No         No   NaN      0   NaN   \n",
              "26519  AB's - Absolute Barbecues           No         No   NaN      0   NaN   \n",
              "27672                    Manchow           No         No   NaN      0   NaN   \n",
              "28611                    Manchow           No         No   NaN      0   NaN   \n",
              "29298  AB's - Absolute Barbecues           No         No   NaN      0   NaN   \n",
              "30604                    Manchow           No         No   NaN      0   NaN   \n",
              "31400                    Manchow           No         No   NaN      0   NaN   \n",
              "32131  AB's - Absolute Barbecues           No         No   NaN      0   NaN   \n",
              "33457               La Lunch Box           No         No   NaN      0   NaN   \n",
              "34755  AB's - Absolute Barbecues           No         No   NaN      0   NaN   \n",
              "40354       The Happy Vegetarian           No         No   NaN      0   NaN   \n",
              "40556          Risalo Restaurant           No         No   NaN      0   NaN   \n",
              "41980          Risalo Restaurant           No         No   NaN      0   NaN   \n",
              "46586                 The Cinema           No         No   NaN      0   NaN   \n",
              "46609             Grill Biryanis           No         No   NaN      0   NaN   \n",
              "46752       The Happy Vegetarian           No         No   NaN      0   NaN   \n",
              "47134                 The Cinema           No         No   NaN      0   NaN   \n",
              "\n",
              "      location rest_type cuisines  cost_for_two reviews_list menu_item  \\\n",
              "1662       NaN       NaN      NaN           NaN           []        []   \n",
              "9874       NaN       NaN      NaN           NaN           []        []   \n",
              "13693      NaN       NaN      NaN           NaN           []        []   \n",
              "16351      NaN       NaN      NaN           NaN           []        []   \n",
              "26432      NaN       NaN      NaN           NaN           []        []   \n",
              "26519      NaN       NaN      NaN           NaN           []        []   \n",
              "27672      NaN       NaN      NaN           NaN           []        []   \n",
              "28611      NaN       NaN      NaN           NaN           []        []   \n",
              "29298      NaN       NaN      NaN           NaN           []        []   \n",
              "30604      NaN       NaN      NaN           NaN           []        []   \n",
              "31400      NaN       NaN      NaN           NaN           []        []   \n",
              "32131      NaN       NaN      NaN           NaN           []        []   \n",
              "33457      NaN       NaN      NaN           NaN           []        []   \n",
              "34755      NaN       NaN      NaN           NaN           []        []   \n",
              "40354      NaN       NaN      NaN           NaN           []        []   \n",
              "40556      NaN       NaN      NaN           NaN           []        []   \n",
              "41980      NaN       NaN      NaN           NaN           []        []   \n",
              "46586      NaN       NaN      NaN           NaN           []        []   \n",
              "46609      NaN       NaN      NaN           NaN           []        []   \n",
              "46752      NaN       NaN      NaN           NaN           []        []   \n",
              "47134      NaN       NaN      NaN           NaN           []        []   \n",
              "\n",
              "      list_type              list_city  \n",
              "1662   Delivery      Bannerghatta Road  \n",
              "9874   Delivery                    BTM  \n",
              "13693  Delivery        Electronic City  \n",
              "16351  Delivery                    HSR  \n",
              "26432  Dine-out           Kammanahalli  \n",
              "26519    Buffet  Koramangala 4th Block  \n",
              "27672  Delivery  Koramangala 4th Block  \n",
              "28611  Dine-out  Koramangala 4th Block  \n",
              "29298    Buffet  Koramangala 5th Block  \n",
              "30604  Delivery  Koramangala 5th Block  \n",
              "31400  Dine-out  Koramangala 5th Block  \n",
              "32131    Buffet  Koramangala 6th Block  \n",
              "33457  Delivery  Koramangala 6th Block  \n",
              "34755    Buffet  Koramangala 7th Block  \n",
              "40354  Dine-out           Malleshwaram  \n",
              "40556     Cafes           Marathahalli  \n",
              "41980  Dine-out           Marathahalli  \n",
              "46586  Delivery            Rajajinagar  \n",
              "46609  Delivery            Rajajinagar  \n",
              "46752  Dine-out            Rajajinagar  \n",
              "47134  Dine-out            Rajajinagar  "
            ]
          },
          "execution_count": 12,
          "metadata": {},
          "output_type": "execute_result"
        }
      ],
      "source": [
        "# Checked which rows have null locations to find a relationshp and figure out how to impute the null value\n",
        "df[df.location.isnull()==True]"
      ]
    },
    {
      "cell_type": "markdown",
      "id": "93c8c6bd",
      "metadata": {
        "papermill": {
          "duration": 0.067917,
          "end_time": "2021-12-26T08:03:37.956575",
          "exception": false,
          "start_time": "2021-12-26T08:03:37.888658",
          "status": "completed"
        },
        "tags": [],
        "id": "93c8c6bd"
      },
      "source": [
        "It looks like all the values without a location have nulls in the other columns too, so let's just drop those rows."
      ]
    },
    {
      "cell_type": "code",
      "execution_count": null,
      "id": "50273510",
      "metadata": {
        "execution": {
          "iopub.execute_input": "2021-12-26T08:03:38.095693Z",
          "iopub.status.busy": "2021-12-26T08:03:38.095028Z",
          "iopub.status.idle": "2021-12-26T08:03:38.120160Z",
          "shell.execute_reply": "2021-12-26T08:03:38.120714Z",
          "shell.execute_reply.started": "2021-12-25T23:25:32.892455Z"
        },
        "papermill": {
          "duration": 0.096516,
          "end_time": "2021-12-26T08:03:38.120913",
          "exception": false,
          "start_time": "2021-12-26T08:03:38.024397",
          "status": "completed"
        },
        "tags": [],
        "id": "50273510"
      },
      "outputs": [],
      "source": [
        "# Drop rows with null values in location\n",
        "df.dropna(subset=['location'], inplace=True)"
      ]
    },
    {
      "cell_type": "markdown",
      "id": "5677cc93",
      "metadata": {
        "papermill": {
          "duration": 0.066542,
          "end_time": "2021-12-26T08:03:38.254364",
          "exception": false,
          "start_time": "2021-12-26T08:03:38.187822",
          "status": "completed"
        },
        "tags": [],
        "id": "5677cc93"
      },
      "source": [
        "I couldn't really figure out a way to properly impute the null values in rest_type so I just dropped those rows"
      ]
    },
    {
      "cell_type": "code",
      "execution_count": null,
      "id": "b8a14dec",
      "metadata": {
        "execution": {
          "iopub.execute_input": "2021-12-26T08:03:38.393643Z",
          "iopub.status.busy": "2021-12-26T08:03:38.392979Z",
          "iopub.status.idle": "2021-12-26T08:03:38.418264Z",
          "shell.execute_reply": "2021-12-26T08:03:38.418813Z",
          "shell.execute_reply.started": "2021-12-25T23:25:32.919207Z"
        },
        "papermill": {
          "duration": 0.096896,
          "end_time": "2021-12-26T08:03:38.419008",
          "exception": false,
          "start_time": "2021-12-26T08:03:38.322112",
          "status": "completed"
        },
        "tags": [],
        "id": "b8a14dec"
      },
      "outputs": [],
      "source": [
        "# Drop rows with null values in rest_type\n",
        "df.dropna(subset=['rest_type'], inplace=True)"
      ]
    },
    {
      "cell_type": "markdown",
      "id": "ff5a09df",
      "metadata": {
        "papermill": {
          "duration": 0.068631,
          "end_time": "2021-12-26T08:03:38.555358",
          "exception": false,
          "start_time": "2021-12-26T08:03:38.486727",
          "status": "completed"
        },
        "tags": [],
        "id": "ff5a09df"
      },
      "source": [
        "The phone number has a lot of nulls, but it also shouldn't have a siginificant impact on the model, so I'm jut going to drop the whole column"
      ]
    },
    {
      "cell_type": "code",
      "execution_count": null,
      "id": "54a972fe",
      "metadata": {
        "execution": {
          "iopub.execute_input": "2021-12-26T08:03:38.692221Z",
          "iopub.status.busy": "2021-12-26T08:03:38.691229Z",
          "iopub.status.idle": "2021-12-26T08:03:38.705955Z",
          "shell.execute_reply": "2021-12-26T08:03:38.706527Z",
          "shell.execute_reply.started": "2021-12-25T23:25:32.946504Z"
        },
        "papermill": {
          "duration": 0.084597,
          "end_time": "2021-12-26T08:03:38.706708",
          "exception": false,
          "start_time": "2021-12-26T08:03:38.622111",
          "status": "completed"
        },
        "tags": [],
        "id": "54a972fe"
      },
      "outputs": [],
      "source": [
        "# Drop the phone column\n",
        "df.drop(columns='phone',inplace=True)"
      ]
    },
    {
      "cell_type": "markdown",
      "id": "b94b7c78",
      "metadata": {
        "papermill": {
          "duration": 0.067061,
          "end_time": "2021-12-26T08:03:38.841435",
          "exception": false,
          "start_time": "2021-12-26T08:03:38.774374",
          "status": "completed"
        },
        "tags": [],
        "id": "b94b7c78"
      },
      "source": [
        "Under menu and reviews, those with empty reviews or menu have the [] symbol, so I am just going to convert them into null values"
      ]
    },
    {
      "cell_type": "code",
      "execution_count": null,
      "id": "ece46906",
      "metadata": {
        "execution": {
          "iopub.execute_input": "2021-12-26T08:03:38.980026Z",
          "iopub.status.busy": "2021-12-26T08:03:38.979244Z",
          "iopub.status.idle": "2021-12-26T08:03:39.049944Z",
          "shell.execute_reply": "2021-12-26T08:03:39.050593Z",
          "shell.execute_reply.started": "2021-12-25T23:25:32.962505Z"
        },
        "papermill": {
          "duration": 0.142302,
          "end_time": "2021-12-26T08:03:39.050776",
          "exception": false,
          "start_time": "2021-12-26T08:03:38.908474",
          "status": "completed"
        },
        "tags": [],
        "id": "ece46906"
      },
      "outputs": [],
      "source": [
        "#convert the [] into null values\n",
        "df['reviews_list'] = df['reviews_list'].apply(lambda x: np.nan if len(str(x))==2 else x)\n",
        "df['menu_item'] = df['menu_item'].apply(lambda x: np.nan if len(str(x))==2 else x)"
      ]
    },
    {
      "cell_type": "code",
      "execution_count": null,
      "id": "789bbf99",
      "metadata": {
        "execution": {
          "iopub.execute_input": "2021-12-26T08:03:39.189630Z",
          "iopub.status.busy": "2021-12-26T08:03:39.188940Z",
          "iopub.status.idle": "2021-12-26T08:03:39.225364Z",
          "shell.execute_reply": "2021-12-26T08:03:39.224759Z",
          "shell.execute_reply.started": "2021-12-25T23:25:33.03286Z"
        },
        "papermill": {
          "duration": 0.107936,
          "end_time": "2021-12-26T08:03:39.225506",
          "exception": false,
          "start_time": "2021-12-26T08:03:39.117570",
          "status": "completed"
        },
        "tags": [],
        "id": "789bbf99",
        "outputId": "98c698b4-46d3-4109-b0c6-731a868f2b0a"
      },
      "outputs": [
        {
          "data": {
            "text/html": [
              "<div>\n",
              "<style scoped>\n",
              "    .dataframe tbody tr th:only-of-type {\n",
              "        vertical-align: middle;\n",
              "    }\n",
              "\n",
              "    .dataframe tbody tr th {\n",
              "        vertical-align: top;\n",
              "    }\n",
              "\n",
              "    .dataframe thead th {\n",
              "        text-align: right;\n",
              "    }\n",
              "</style>\n",
              "<table border=\"1\" class=\"dataframe\">\n",
              "  <thead>\n",
              "    <tr style=\"text-align: right;\">\n",
              "      <th></th>\n",
              "      <th>url</th>\n",
              "      <th>address</th>\n",
              "      <th>name</th>\n",
              "      <th>online_order</th>\n",
              "      <th>book_table</th>\n",
              "      <th>rate</th>\n",
              "      <th>votes</th>\n",
              "      <th>location</th>\n",
              "      <th>rest_type</th>\n",
              "      <th>cuisines</th>\n",
              "      <th>cost_for_two</th>\n",
              "      <th>reviews_list</th>\n",
              "      <th>menu_item</th>\n",
              "      <th>list_type</th>\n",
              "      <th>list_city</th>\n",
              "    </tr>\n",
              "  </thead>\n",
              "  <tbody>\n",
              "    <tr>\n",
              "      <th>75</th>\n",
              "      <td>https://www.zomato.com/bangalore/om-sri-vinaya...</td>\n",
              "      <td>39, S B M Colony, Near-Sita Circle, 1st Stage,...</td>\n",
              "      <td>Om Sri Vinayaka Chats</td>\n",
              "      <td>No</td>\n",
              "      <td>No</td>\n",
              "      <td>NaN</td>\n",
              "      <td>0</td>\n",
              "      <td>Banashankari</td>\n",
              "      <td>Takeaway, Delivery</td>\n",
              "      <td>Street Food, Fast Food</td>\n",
              "      <td>500.0</td>\n",
              "      <td>NaN</td>\n",
              "      <td>NaN</td>\n",
              "      <td>Delivery</td>\n",
              "      <td>Banashankari</td>\n",
              "    </tr>\n",
              "    <tr>\n",
              "      <th>91</th>\n",
              "      <td>https://www.zomato.com/bangalore/sunsadm-banas...</td>\n",
              "      <td>Shop 18 , 3rd cross road,Markandeya Layout, Ba...</td>\n",
              "      <td>Sunsadm</td>\n",
              "      <td>No</td>\n",
              "      <td>No</td>\n",
              "      <td>NaN</td>\n",
              "      <td>0</td>\n",
              "      <td>Banashankari</td>\n",
              "      <td>Takeaway, Delivery</td>\n",
              "      <td>South Indian</td>\n",
              "      <td>400.0</td>\n",
              "      <td>NaN</td>\n",
              "      <td>NaN</td>\n",
              "      <td>Delivery</td>\n",
              "      <td>Banashankari</td>\n",
              "    </tr>\n",
              "    <tr>\n",
              "      <th>92</th>\n",
              "      <td>https://www.zomato.com/bangalore/annapooranesh...</td>\n",
              "      <td>625, 5th Cross Road, Hanumanthnagar, Banashank...</td>\n",
              "      <td>Annapooraneshwari Mess</td>\n",
              "      <td>No</td>\n",
              "      <td>No</td>\n",
              "      <td>NaN</td>\n",
              "      <td>0</td>\n",
              "      <td>Banashankari</td>\n",
              "      <td>Mess</td>\n",
              "      <td>South Indian</td>\n",
              "      <td>200.0</td>\n",
              "      <td>NaN</td>\n",
              "      <td>NaN</td>\n",
              "      <td>Delivery</td>\n",
              "      <td>Banashankari</td>\n",
              "    </tr>\n",
              "    <tr>\n",
              "      <th>107</th>\n",
              "      <td>https://www.zomato.com/bangalore/coffee-shopee...</td>\n",
              "      <td>1722, 13th Main Road 31st Cross BSK, 2nd Stage...</td>\n",
              "      <td>Coffee Shopee</td>\n",
              "      <td>No</td>\n",
              "      <td>No</td>\n",
              "      <td>NaN</td>\n",
              "      <td>0</td>\n",
              "      <td>Banashankari</td>\n",
              "      <td>Takeaway, Delivery</td>\n",
              "      <td>Beverages</td>\n",
              "      <td>250.0</td>\n",
              "      <td>NaN</td>\n",
              "      <td>NaN</td>\n",
              "      <td>Delivery</td>\n",
              "      <td>Banashankari</td>\n",
              "    </tr>\n",
              "    <tr>\n",
              "      <th>113</th>\n",
              "      <td>https://www.zomato.com/bangalore/dharwad-line-...</td>\n",
              "      <td>Shop 25, 1st Cross, 50 Feet Main Road, Near BD...</td>\n",
              "      <td>Dharwad Line Bazaar Mishra Pedha</td>\n",
              "      <td>No</td>\n",
              "      <td>No</td>\n",
              "      <td>NaN</td>\n",
              "      <td>0</td>\n",
              "      <td>Banashankari</td>\n",
              "      <td>Dessert Parlor</td>\n",
              "      <td>Mithai</td>\n",
              "      <td>150.0</td>\n",
              "      <td>NaN</td>\n",
              "      <td>NaN</td>\n",
              "      <td>Delivery</td>\n",
              "      <td>Banashankari</td>\n",
              "    </tr>\n",
              "    <tr>\n",
              "      <th>...</th>\n",
              "      <td>...</td>\n",
              "      <td>...</td>\n",
              "      <td>...</td>\n",
              "      <td>...</td>\n",
              "      <td>...</td>\n",
              "      <td>...</td>\n",
              "      <td>...</td>\n",
              "      <td>...</td>\n",
              "      <td>...</td>\n",
              "      <td>...</td>\n",
              "      <td>...</td>\n",
              "      <td>...</td>\n",
              "      <td>...</td>\n",
              "      <td>...</td>\n",
              "      <td>...</td>\n",
              "    </tr>\n",
              "    <tr>\n",
              "      <th>51642</th>\n",
              "      <td>https://www.zomato.com/bangalore/basaveshwara-...</td>\n",
              "      <td>Nanjudeshwari complex, Oppsite Brookefield Mal...</td>\n",
              "      <td>Basaveshwara Khanavali</td>\n",
              "      <td>No</td>\n",
              "      <td>No</td>\n",
              "      <td>NaN</td>\n",
              "      <td>0</td>\n",
              "      <td>Brookefield</td>\n",
              "      <td>Quick Bites</td>\n",
              "      <td>South Indian</td>\n",
              "      <td>200.0</td>\n",
              "      <td>NaN</td>\n",
              "      <td>NaN</td>\n",
              "      <td>Dine-out</td>\n",
              "      <td>Whitefield</td>\n",
              "    </tr>\n",
              "    <tr>\n",
              "      <th>51643</th>\n",
              "      <td>https://www.zomato.com/bangalore/new-ambur-bir...</td>\n",
              "      <td>AECS Layout, ITPL Main Road, Brookefield, Bang...</td>\n",
              "      <td>New Ambur Biryani</td>\n",
              "      <td>No</td>\n",
              "      <td>No</td>\n",
              "      <td>NaN</td>\n",
              "      <td>0</td>\n",
              "      <td>Brookefield</td>\n",
              "      <td>Quick Bites</td>\n",
              "      <td>Biryani, Kebab</td>\n",
              "      <td>300.0</td>\n",
              "      <td>NaN</td>\n",
              "      <td>NaN</td>\n",
              "      <td>Dine-out</td>\n",
              "      <td>Whitefield</td>\n",
              "    </tr>\n",
              "    <tr>\n",
              "      <th>51644</th>\n",
              "      <td>https://www.zomato.com/bangalore/punjabi-thadk...</td>\n",
              "      <td>7/3, ASK Tower, Kundanahalli Gate, Next to Bat...</td>\n",
              "      <td>Punjabi Thadka</td>\n",
              "      <td>No</td>\n",
              "      <td>No</td>\n",
              "      <td>NaN</td>\n",
              "      <td>0</td>\n",
              "      <td>Brookefield</td>\n",
              "      <td>Quick Bites</td>\n",
              "      <td>North Indian</td>\n",
              "      <td>400.0</td>\n",
              "      <td>NaN</td>\n",
              "      <td>NaN</td>\n",
              "      <td>Dine-out</td>\n",
              "      <td>Whitefield</td>\n",
              "    </tr>\n",
              "    <tr>\n",
              "      <th>51713</th>\n",
              "      <td>https://www.zomato.com/bangalore/vinod-bar-and...</td>\n",
              "      <td>Number 10, Garudachar Palya, Mahadevapura, Whi...</td>\n",
              "      <td>Vinod Bar And Restaurant</td>\n",
              "      <td>No</td>\n",
              "      <td>No</td>\n",
              "      <td>NaN</td>\n",
              "      <td>0</td>\n",
              "      <td>Whitefield</td>\n",
              "      <td>Bar</td>\n",
              "      <td>Finger Food</td>\n",
              "      <td>600.0</td>\n",
              "      <td>NaN</td>\n",
              "      <td>NaN</td>\n",
              "      <td>Pubs and bars</td>\n",
              "      <td>Whitefield</td>\n",
              "    </tr>\n",
              "    <tr>\n",
              "      <th>51714</th>\n",
              "      <td>https://www.zomato.com/bangalore/plunge-sherat...</td>\n",
              "      <td>Sheraton Grand Bengaluru Whitefield Hotel &amp; Co...</td>\n",
              "      <td>Plunge - Sheraton Grand Bengaluru Whitefield H...</td>\n",
              "      <td>No</td>\n",
              "      <td>No</td>\n",
              "      <td>NaN</td>\n",
              "      <td>0</td>\n",
              "      <td>Whitefield</td>\n",
              "      <td>Bar</td>\n",
              "      <td>Finger Food</td>\n",
              "      <td>2000.0</td>\n",
              "      <td>NaN</td>\n",
              "      <td>NaN</td>\n",
              "      <td>Pubs and bars</td>\n",
              "      <td>Whitefield</td>\n",
              "    </tr>\n",
              "  </tbody>\n",
              "</table>\n",
              "<p>6407 rows × 15 columns</p>\n",
              "</div>"
            ],
            "text/plain": [
              "                                                     url  \\\n",
              "75     https://www.zomato.com/bangalore/om-sri-vinaya...   \n",
              "91     https://www.zomato.com/bangalore/sunsadm-banas...   \n",
              "92     https://www.zomato.com/bangalore/annapooranesh...   \n",
              "107    https://www.zomato.com/bangalore/coffee-shopee...   \n",
              "113    https://www.zomato.com/bangalore/dharwad-line-...   \n",
              "...                                                  ...   \n",
              "51642  https://www.zomato.com/bangalore/basaveshwara-...   \n",
              "51643  https://www.zomato.com/bangalore/new-ambur-bir...   \n",
              "51644  https://www.zomato.com/bangalore/punjabi-thadk...   \n",
              "51713  https://www.zomato.com/bangalore/vinod-bar-and...   \n",
              "51714  https://www.zomato.com/bangalore/plunge-sherat...   \n",
              "\n",
              "                                                 address  \\\n",
              "75     39, S B M Colony, Near-Sita Circle, 1st Stage,...   \n",
              "91     Shop 18 , 3rd cross road,Markandeya Layout, Ba...   \n",
              "92     625, 5th Cross Road, Hanumanthnagar, Banashank...   \n",
              "107    1722, 13th Main Road 31st Cross BSK, 2nd Stage...   \n",
              "113    Shop 25, 1st Cross, 50 Feet Main Road, Near BD...   \n",
              "...                                                  ...   \n",
              "51642  Nanjudeshwari complex, Oppsite Brookefield Mal...   \n",
              "51643  AECS Layout, ITPL Main Road, Brookefield, Bang...   \n",
              "51644  7/3, ASK Tower, Kundanahalli Gate, Next to Bat...   \n",
              "51713  Number 10, Garudachar Palya, Mahadevapura, Whi...   \n",
              "51714  Sheraton Grand Bengaluru Whitefield Hotel & Co...   \n",
              "\n",
              "                                                    name online_order  \\\n",
              "75                                 Om Sri Vinayaka Chats           No   \n",
              "91                                               Sunsadm           No   \n",
              "92                                Annapooraneshwari Mess           No   \n",
              "107                                        Coffee Shopee           No   \n",
              "113                     Dharwad Line Bazaar Mishra Pedha           No   \n",
              "...                                                  ...          ...   \n",
              "51642                             Basaveshwara Khanavali           No   \n",
              "51643                                  New Ambur Biryani           No   \n",
              "51644                                     Punjabi Thadka           No   \n",
              "51713                           Vinod Bar And Restaurant           No   \n",
              "51714  Plunge - Sheraton Grand Bengaluru Whitefield H...           No   \n",
              "\n",
              "      book_table  rate  votes      location           rest_type  \\\n",
              "75            No   NaN      0  Banashankari  Takeaway, Delivery   \n",
              "91            No   NaN      0  Banashankari  Takeaway, Delivery   \n",
              "92            No   NaN      0  Banashankari                Mess   \n",
              "107           No   NaN      0  Banashankari  Takeaway, Delivery   \n",
              "113           No   NaN      0  Banashankari      Dessert Parlor   \n",
              "...          ...   ...    ...           ...                 ...   \n",
              "51642         No   NaN      0   Brookefield         Quick Bites   \n",
              "51643         No   NaN      0   Brookefield         Quick Bites   \n",
              "51644         No   NaN      0   Brookefield         Quick Bites   \n",
              "51713         No   NaN      0    Whitefield                 Bar   \n",
              "51714         No   NaN      0    Whitefield                 Bar   \n",
              "\n",
              "                     cuisines  cost_for_two reviews_list menu_item  \\\n",
              "75     Street Food, Fast Food         500.0          NaN       NaN   \n",
              "91               South Indian         400.0          NaN       NaN   \n",
              "92               South Indian         200.0          NaN       NaN   \n",
              "107                 Beverages         250.0          NaN       NaN   \n",
              "113                    Mithai         150.0          NaN       NaN   \n",
              "...                       ...           ...          ...       ...   \n",
              "51642            South Indian         200.0          NaN       NaN   \n",
              "51643          Biryani, Kebab         300.0          NaN       NaN   \n",
              "51644            North Indian         400.0          NaN       NaN   \n",
              "51713             Finger Food         600.0          NaN       NaN   \n",
              "51714             Finger Food        2000.0          NaN       NaN   \n",
              "\n",
              "           list_type     list_city  \n",
              "75          Delivery  Banashankari  \n",
              "91          Delivery  Banashankari  \n",
              "92          Delivery  Banashankari  \n",
              "107         Delivery  Banashankari  \n",
              "113         Delivery  Banashankari  \n",
              "...              ...           ...  \n",
              "51642       Dine-out    Whitefield  \n",
              "51643       Dine-out    Whitefield  \n",
              "51644       Dine-out    Whitefield  \n",
              "51713  Pubs and bars    Whitefield  \n",
              "51714  Pubs and bars    Whitefield  \n",
              "\n",
              "[6407 rows x 15 columns]"
            ]
          },
          "execution_count": 17,
          "metadata": {},
          "output_type": "execute_result"
        }
      ],
      "source": [
        "#check the dataframe of values where both the rate and reviews_list columns are null\n",
        "df[(df.rate.isnull()==True)&(df.reviews_list.isnull()==True)]"
      ]
    },
    {
      "cell_type": "code",
      "execution_count": null,
      "id": "083cbd26",
      "metadata": {
        "execution": {
          "iopub.execute_input": "2021-12-26T08:03:39.368095Z",
          "iopub.status.busy": "2021-12-26T08:03:39.367373Z",
          "iopub.status.idle": "2021-12-26T08:03:39.395762Z",
          "shell.execute_reply": "2021-12-26T08:03:39.395097Z",
          "shell.execute_reply.started": "2021-12-25T23:25:33.072505Z"
        },
        "papermill": {
          "duration": 0.100372,
          "end_time": "2021-12-26T08:03:39.395934",
          "exception": false,
          "start_time": "2021-12-26T08:03:39.295562",
          "status": "completed"
        },
        "tags": [],
        "id": "083cbd26"
      },
      "outputs": [],
      "source": [
        "#drop rows with na values in both the reviews_list and rate columns\n",
        "df.dropna(subset=['rate','reviews_list'], axis = 0, how = 'all', inplace = True)"
      ]
    },
    {
      "cell_type": "markdown",
      "id": "69c2e86d",
      "metadata": {
        "papermill": {
          "duration": 0.067737,
          "end_time": "2021-12-26T08:03:39.532287",
          "exception": false,
          "start_time": "2021-12-26T08:03:39.464550",
          "status": "completed"
        },
        "tags": [],
        "id": "69c2e86d"
      },
      "source": [
        "Checking the amount of null values again, we can see that we now have a lot of null values in the menu_item, so I am just going to drop this column."
      ]
    },
    {
      "cell_type": "code",
      "execution_count": null,
      "id": "93ae0c48",
      "metadata": {
        "execution": {
          "iopub.execute_input": "2021-12-26T08:03:39.673697Z",
          "iopub.status.busy": "2021-12-26T08:03:39.672978Z",
          "iopub.status.idle": "2021-12-26T08:03:39.684904Z",
          "shell.execute_reply": "2021-12-26T08:03:39.684035Z",
          "shell.execute_reply.started": "2021-12-25T23:25:33.103945Z"
        },
        "papermill": {
          "duration": 0.08501,
          "end_time": "2021-12-26T08:03:39.685093",
          "exception": false,
          "start_time": "2021-12-26T08:03:39.600083",
          "status": "completed"
        },
        "tags": [],
        "id": "93ae0c48"
      },
      "outputs": [],
      "source": [
        "# Drop the menu_item column\n",
        "df.drop(columns = 'menu_item', inplace = True)"
      ]
    },
    {
      "cell_type": "code",
      "execution_count": null,
      "id": "9e00bf45",
      "metadata": {
        "execution": {
          "iopub.execute_input": "2021-12-26T08:03:39.825247Z",
          "iopub.status.busy": "2021-12-26T08:03:39.824477Z",
          "iopub.status.idle": "2021-12-26T08:03:39.859341Z",
          "shell.execute_reply": "2021-12-26T08:03:39.858667Z",
          "shell.execute_reply.started": "2021-12-25T23:25:33.121929Z"
        },
        "papermill": {
          "duration": 0.105834,
          "end_time": "2021-12-26T08:03:39.859488",
          "exception": false,
          "start_time": "2021-12-26T08:03:39.753654",
          "status": "completed"
        },
        "tags": [],
        "id": "9e00bf45",
        "outputId": "d7c72433-fc70-4652-80a9-c0d4310934ec"
      },
      "outputs": [
        {
          "data": {
            "text/html": [
              "<div>\n",
              "<style scoped>\n",
              "    .dataframe tbody tr th:only-of-type {\n",
              "        vertical-align: middle;\n",
              "    }\n",
              "\n",
              "    .dataframe tbody tr th {\n",
              "        vertical-align: top;\n",
              "    }\n",
              "\n",
              "    .dataframe thead th {\n",
              "        text-align: right;\n",
              "    }\n",
              "</style>\n",
              "<table border=\"1\" class=\"dataframe\">\n",
              "  <thead>\n",
              "    <tr style=\"text-align: right;\">\n",
              "      <th></th>\n",
              "      <th>url</th>\n",
              "      <th>address</th>\n",
              "      <th>name</th>\n",
              "      <th>online_order</th>\n",
              "      <th>book_table</th>\n",
              "      <th>rate</th>\n",
              "      <th>votes</th>\n",
              "      <th>location</th>\n",
              "      <th>rest_type</th>\n",
              "      <th>cuisines</th>\n",
              "      <th>cost_for_two</th>\n",
              "      <th>reviews_list</th>\n",
              "      <th>list_type</th>\n",
              "      <th>list_city</th>\n",
              "    </tr>\n",
              "  </thead>\n",
              "  <tbody>\n",
              "    <tr>\n",
              "      <th>95</th>\n",
              "      <td>https://www.zomato.com/bangalore/vi-ras-bar-an...</td>\n",
              "      <td>3828, Near Deve Gowda Petrol Bunk, 30th Cross,...</td>\n",
              "      <td>Vi Ra's Bar and Restaurant</td>\n",
              "      <td>No</td>\n",
              "      <td>No</td>\n",
              "      <td>3.3</td>\n",
              "      <td>62</td>\n",
              "      <td>Banashankari</td>\n",
              "      <td>Bar</td>\n",
              "      <td>South Indian, North Indian, Chinese</td>\n",
              "      <td>800.0</td>\n",
              "      <td>NaN</td>\n",
              "      <td>Delivery</td>\n",
              "      <td>Banashankari</td>\n",
              "    </tr>\n",
              "    <tr>\n",
              "      <th>108</th>\n",
              "      <td>https://www.zomato.com/bangalore/naveen-kabab-...</td>\n",
              "      <td>2, 3rd Cross, Near Pesit College, Banashankari...</td>\n",
              "      <td>Naveen Kabab &amp; Biriyani Mane</td>\n",
              "      <td>No</td>\n",
              "      <td>No</td>\n",
              "      <td>3.2</td>\n",
              "      <td>9</td>\n",
              "      <td>Banashankari</td>\n",
              "      <td>Quick Bites</td>\n",
              "      <td>Biryani</td>\n",
              "      <td>300.0</td>\n",
              "      <td>NaN</td>\n",
              "      <td>Delivery</td>\n",
              "      <td>Banashankari</td>\n",
              "    </tr>\n",
              "    <tr>\n",
              "      <th>109</th>\n",
              "      <td>https://www.zomato.com/bangalore/katriguppe-do...</td>\n",
              "      <td>8, Katriguppe Main Road, Vivekananda Nagar, 3r...</td>\n",
              "      <td>Katriguppe Donne Biryani</td>\n",
              "      <td>No</td>\n",
              "      <td>No</td>\n",
              "      <td>3.2</td>\n",
              "      <td>4</td>\n",
              "      <td>Banashankari</td>\n",
              "      <td>Quick Bites</td>\n",
              "      <td>North Indian</td>\n",
              "      <td>300.0</td>\n",
              "      <td>NaN</td>\n",
              "      <td>Delivery</td>\n",
              "      <td>Banashankari</td>\n",
              "    </tr>\n",
              "    <tr>\n",
              "      <th>112</th>\n",
              "      <td>https://www.zomato.com/bangalore/just-bake-3-b...</td>\n",
              "      <td>3967, VHBC Society, Girinagar Phase 4, Hoseker...</td>\n",
              "      <td>Just Bake</td>\n",
              "      <td>No</td>\n",
              "      <td>No</td>\n",
              "      <td>3.4</td>\n",
              "      <td>8</td>\n",
              "      <td>Banashankari</td>\n",
              "      <td>Bakery</td>\n",
              "      <td>Bakery, Desserts</td>\n",
              "      <td>400.0</td>\n",
              "      <td>NaN</td>\n",
              "      <td>Delivery</td>\n",
              "      <td>Banashankari</td>\n",
              "    </tr>\n",
              "    <tr>\n",
              "      <th>121</th>\n",
              "      <td>https://www.zomato.com/bangalore/new-mangalore...</td>\n",
              "      <td>89, Near PES College, 22nd Main Road, Girinaga...</td>\n",
              "      <td>New Mangalore Lunch Home</td>\n",
              "      <td>No</td>\n",
              "      <td>No</td>\n",
              "      <td>3.3</td>\n",
              "      <td>7</td>\n",
              "      <td>Banashankari</td>\n",
              "      <td>Quick Bites</td>\n",
              "      <td>Mangalorean, South Indian, North Indian</td>\n",
              "      <td>200.0</td>\n",
              "      <td>NaN</td>\n",
              "      <td>Delivery</td>\n",
              "      <td>Banashankari</td>\n",
              "    </tr>\n",
              "    <tr>\n",
              "      <th>...</th>\n",
              "      <td>...</td>\n",
              "      <td>...</td>\n",
              "      <td>...</td>\n",
              "      <td>...</td>\n",
              "      <td>...</td>\n",
              "      <td>...</td>\n",
              "      <td>...</td>\n",
              "      <td>...</td>\n",
              "      <td>...</td>\n",
              "      <td>...</td>\n",
              "      <td>...</td>\n",
              "      <td>...</td>\n",
              "      <td>...</td>\n",
              "      <td>...</td>\n",
              "    </tr>\n",
              "    <tr>\n",
              "      <th>51530</th>\n",
              "      <td>https://www.zomato.com/bangalore/a1-hot-dum-bi...</td>\n",
              "      <td>Chicka Thirupath Road, Channasandra, Whitefiel...</td>\n",
              "      <td>A1 Hot Dum Biryani</td>\n",
              "      <td>No</td>\n",
              "      <td>No</td>\n",
              "      <td>3.2</td>\n",
              "      <td>4</td>\n",
              "      <td>Whitefield</td>\n",
              "      <td>Quick Bites</td>\n",
              "      <td>Biryani</td>\n",
              "      <td>150.0</td>\n",
              "      <td>NaN</td>\n",
              "      <td>Dine-out</td>\n",
              "      <td>Whitefield</td>\n",
              "    </tr>\n",
              "    <tr>\n",
              "      <th>51531</th>\n",
              "      <td>https://www.zomato.com/bangalore/pmr-restauran...</td>\n",
              "      <td>Near HP Petrol Pump, Seegehalli, Kadugodi, Whi...</td>\n",
              "      <td>PMR Restaurant</td>\n",
              "      <td>No</td>\n",
              "      <td>No</td>\n",
              "      <td>3.3</td>\n",
              "      <td>4</td>\n",
              "      <td>Whitefield</td>\n",
              "      <td>Quick Bites</td>\n",
              "      <td>North Indian</td>\n",
              "      <td>300.0</td>\n",
              "      <td>NaN</td>\n",
              "      <td>Dine-out</td>\n",
              "      <td>Whitefield</td>\n",
              "    </tr>\n",
              "    <tr>\n",
              "      <th>51556</th>\n",
              "      <td>https://www.zomato.com/bangalore/hungry-wok-wh...</td>\n",
              "      <td>Shop WH 13, Prashanthi Complex, Channasandra M...</td>\n",
              "      <td>Hungry Wok</td>\n",
              "      <td>No</td>\n",
              "      <td>No</td>\n",
              "      <td>3.3</td>\n",
              "      <td>5</td>\n",
              "      <td>Whitefield</td>\n",
              "      <td>Quick Bites</td>\n",
              "      <td>Chinese, North Indian</td>\n",
              "      <td>400.0</td>\n",
              "      <td>NaN</td>\n",
              "      <td>Dine-out</td>\n",
              "      <td>Whitefield</td>\n",
              "    </tr>\n",
              "    <tr>\n",
              "      <th>51600</th>\n",
              "      <td>https://www.zomato.com/bangalore/curry-point-w...</td>\n",
              "      <td>13, Belthur Main Road, Opposite Pyda Palms Apa...</td>\n",
              "      <td>Curry Point</td>\n",
              "      <td>No</td>\n",
              "      <td>No</td>\n",
              "      <td>3.2</td>\n",
              "      <td>7</td>\n",
              "      <td>Whitefield</td>\n",
              "      <td>Quick Bites</td>\n",
              "      <td>North Indian</td>\n",
              "      <td>300.0</td>\n",
              "      <td>NaN</td>\n",
              "      <td>Dine-out</td>\n",
              "      <td>Whitefield</td>\n",
              "    </tr>\n",
              "    <tr>\n",
              "      <th>51672</th>\n",
              "      <td>https://www.zomato.com/bangalore/slounge-lemon...</td>\n",
              "      <td>Lemon Tree Hotel, 23, EPIP Zone, Near I Gate C...</td>\n",
              "      <td>Slounge - Lemon Tree Hotel</td>\n",
              "      <td>No</td>\n",
              "      <td>Yes</td>\n",
              "      <td>3.9</td>\n",
              "      <td>21</td>\n",
              "      <td>Whitefield</td>\n",
              "      <td>Lounge</td>\n",
              "      <td>Finger Food</td>\n",
              "      <td>1500.0</td>\n",
              "      <td>NaN</td>\n",
              "      <td>Drinks &amp; nightlife</td>\n",
              "      <td>Whitefield</td>\n",
              "    </tr>\n",
              "  </tbody>\n",
              "</table>\n",
              "<p>1118 rows × 14 columns</p>\n",
              "</div>"
            ],
            "text/plain": [
              "                                                     url  \\\n",
              "95     https://www.zomato.com/bangalore/vi-ras-bar-an...   \n",
              "108    https://www.zomato.com/bangalore/naveen-kabab-...   \n",
              "109    https://www.zomato.com/bangalore/katriguppe-do...   \n",
              "112    https://www.zomato.com/bangalore/just-bake-3-b...   \n",
              "121    https://www.zomato.com/bangalore/new-mangalore...   \n",
              "...                                                  ...   \n",
              "51530  https://www.zomato.com/bangalore/a1-hot-dum-bi...   \n",
              "51531  https://www.zomato.com/bangalore/pmr-restauran...   \n",
              "51556  https://www.zomato.com/bangalore/hungry-wok-wh...   \n",
              "51600  https://www.zomato.com/bangalore/curry-point-w...   \n",
              "51672  https://www.zomato.com/bangalore/slounge-lemon...   \n",
              "\n",
              "                                                 address  \\\n",
              "95     3828, Near Deve Gowda Petrol Bunk, 30th Cross,...   \n",
              "108    2, 3rd Cross, Near Pesit College, Banashankari...   \n",
              "109    8, Katriguppe Main Road, Vivekananda Nagar, 3r...   \n",
              "112    3967, VHBC Society, Girinagar Phase 4, Hoseker...   \n",
              "121    89, Near PES College, 22nd Main Road, Girinaga...   \n",
              "...                                                  ...   \n",
              "51530  Chicka Thirupath Road, Channasandra, Whitefiel...   \n",
              "51531  Near HP Petrol Pump, Seegehalli, Kadugodi, Whi...   \n",
              "51556  Shop WH 13, Prashanthi Complex, Channasandra M...   \n",
              "51600  13, Belthur Main Road, Opposite Pyda Palms Apa...   \n",
              "51672  Lemon Tree Hotel, 23, EPIP Zone, Near I Gate C...   \n",
              "\n",
              "                               name online_order book_table  rate  votes  \\\n",
              "95       Vi Ra's Bar and Restaurant           No         No   3.3     62   \n",
              "108    Naveen Kabab & Biriyani Mane           No         No   3.2      9   \n",
              "109        Katriguppe Donne Biryani           No         No   3.2      4   \n",
              "112                       Just Bake           No         No   3.4      8   \n",
              "121        New Mangalore Lunch Home           No         No   3.3      7   \n",
              "...                             ...          ...        ...   ...    ...   \n",
              "51530            A1 Hot Dum Biryani           No         No   3.2      4   \n",
              "51531                PMR Restaurant           No         No   3.3      4   \n",
              "51556                    Hungry Wok           No         No   3.3      5   \n",
              "51600                   Curry Point           No         No   3.2      7   \n",
              "51672    Slounge - Lemon Tree Hotel           No        Yes   3.9     21   \n",
              "\n",
              "           location    rest_type                                 cuisines  \\\n",
              "95     Banashankari          Bar      South Indian, North Indian, Chinese   \n",
              "108    Banashankari  Quick Bites                                  Biryani   \n",
              "109    Banashankari  Quick Bites                             North Indian   \n",
              "112    Banashankari       Bakery                         Bakery, Desserts   \n",
              "121    Banashankari  Quick Bites  Mangalorean, South Indian, North Indian   \n",
              "...             ...          ...                                      ...   \n",
              "51530    Whitefield  Quick Bites                                  Biryani   \n",
              "51531    Whitefield  Quick Bites                             North Indian   \n",
              "51556    Whitefield  Quick Bites                    Chinese, North Indian   \n",
              "51600    Whitefield  Quick Bites                             North Indian   \n",
              "51672    Whitefield       Lounge                              Finger Food   \n",
              "\n",
              "       cost_for_two reviews_list           list_type     list_city  \n",
              "95            800.0          NaN            Delivery  Banashankari  \n",
              "108           300.0          NaN            Delivery  Banashankari  \n",
              "109           300.0          NaN            Delivery  Banashankari  \n",
              "112           400.0          NaN            Delivery  Banashankari  \n",
              "121           200.0          NaN            Delivery  Banashankari  \n",
              "...             ...          ...                 ...           ...  \n",
              "51530         150.0          NaN            Dine-out    Whitefield  \n",
              "51531         300.0          NaN            Dine-out    Whitefield  \n",
              "51556         400.0          NaN            Dine-out    Whitefield  \n",
              "51600         300.0          NaN            Dine-out    Whitefield  \n",
              "51672        1500.0          NaN  Drinks & nightlife    Whitefield  \n",
              "\n",
              "[1118 rows x 14 columns]"
            ]
          },
          "execution_count": 20,
          "metadata": {},
          "output_type": "execute_result"
        }
      ],
      "source": [
        "# Checking out the rows with null values under reviews_list\n",
        "df[df.reviews_list.isnull() == True]"
      ]
    },
    {
      "cell_type": "markdown",
      "id": "3de38b3e",
      "metadata": {
        "papermill": {
          "duration": 0.069028,
          "end_time": "2021-12-26T08:03:39.997682",
          "exception": false,
          "start_time": "2021-12-26T08:03:39.928654",
          "status": "completed"
        },
        "tags": [],
        "id": "3de38b3e"
      },
      "source": [
        "The rest of the information for no reviews is mostly complete, so the reason why the value is null is most likely because the customers just didn't leave a review.\n",
        "I'm going to fill in those null values with 'No reviews'"
      ]
    },
    {
      "cell_type": "code",
      "execution_count": null,
      "id": "05b7e140",
      "metadata": {
        "execution": {
          "iopub.execute_input": "2021-12-26T08:03:40.153962Z",
          "iopub.status.busy": "2021-12-26T08:03:40.149189Z",
          "iopub.status.idle": "2021-12-26T08:03:40.157052Z",
          "shell.execute_reply": "2021-12-26T08:03:40.156479Z",
          "shell.execute_reply.started": "2021-12-25T23:25:33.158844Z"
        },
        "papermill": {
          "duration": 0.088864,
          "end_time": "2021-12-26T08:03:40.157206",
          "exception": false,
          "start_time": "2021-12-26T08:03:40.068342",
          "status": "completed"
        },
        "tags": [],
        "id": "05b7e140"
      },
      "outputs": [],
      "source": [
        "# Converts null values in reviews_list to No reviews\n",
        "df['reviews_list'] = df['reviews_list'].fillna('No reviews')"
      ]
    },
    {
      "cell_type": "code",
      "execution_count": null,
      "id": "a4c4acd9",
      "metadata": {
        "execution": {
          "iopub.execute_input": "2021-12-26T08:03:40.305122Z",
          "iopub.status.busy": "2021-12-26T08:03:40.304371Z",
          "iopub.status.idle": "2021-12-26T08:03:40.328692Z",
          "shell.execute_reply": "2021-12-26T08:03:40.329236Z",
          "shell.execute_reply.started": "2021-12-25T23:25:33.175461Z"
        },
        "papermill": {
          "duration": 0.103901,
          "end_time": "2021-12-26T08:03:40.329417",
          "exception": false,
          "start_time": "2021-12-26T08:03:40.225516",
          "status": "completed"
        },
        "tags": [],
        "id": "a4c4acd9",
        "outputId": "60bc29cf-149d-4f37-9098-3bf84ff2882e"
      },
      "outputs": [
        {
          "data": {
            "text/html": [
              "<div>\n",
              "<style scoped>\n",
              "    .dataframe tbody tr th:only-of-type {\n",
              "        vertical-align: middle;\n",
              "    }\n",
              "\n",
              "    .dataframe tbody tr th {\n",
              "        vertical-align: top;\n",
              "    }\n",
              "\n",
              "    .dataframe thead th {\n",
              "        text-align: right;\n",
              "    }\n",
              "</style>\n",
              "<table border=\"1\" class=\"dataframe\">\n",
              "  <thead>\n",
              "    <tr style=\"text-align: right;\">\n",
              "      <th></th>\n",
              "      <th>url</th>\n",
              "      <th>address</th>\n",
              "      <th>name</th>\n",
              "      <th>online_order</th>\n",
              "      <th>book_table</th>\n",
              "      <th>rate</th>\n",
              "      <th>votes</th>\n",
              "      <th>location</th>\n",
              "      <th>rest_type</th>\n",
              "      <th>cuisines</th>\n",
              "      <th>cost_for_two</th>\n",
              "      <th>reviews_list</th>\n",
              "      <th>list_type</th>\n",
              "      <th>list_city</th>\n",
              "    </tr>\n",
              "  </thead>\n",
              "  <tbody>\n",
              "    <tr>\n",
              "      <th>438</th>\n",
              "      <td>https://www.zomato.com/bangalore/the-house-of-...</td>\n",
              "      <td>85, 7th Main Road, Nandakumar Layout, Ramanjan...</td>\n",
              "      <td>The House Of Vadapav</td>\n",
              "      <td>Yes</td>\n",
              "      <td>No</td>\n",
              "      <td>NaN</td>\n",
              "      <td>0</td>\n",
              "      <td>Banashankari</td>\n",
              "      <td>Quick Bites</td>\n",
              "      <td>NaN</td>\n",
              "      <td>150.0</td>\n",
              "      <td>[('Rated 5.0', 'RATED\\n  Good atmosphere ....l...</td>\n",
              "      <td>Delivery</td>\n",
              "      <td>Banashankari</td>\n",
              "    </tr>\n",
              "    <tr>\n",
              "      <th>440</th>\n",
              "      <td>https://www.zomato.com/bangalore/lassi-spot-ku...</td>\n",
              "      <td>728, 24th Cross, Opposite SBI Bank, 1st Stage,...</td>\n",
              "      <td>Lassi Spot</td>\n",
              "      <td>Yes</td>\n",
              "      <td>No</td>\n",
              "      <td>3.3</td>\n",
              "      <td>4</td>\n",
              "      <td>Kumaraswamy Layout</td>\n",
              "      <td>Beverage Shop</td>\n",
              "      <td>NaN</td>\n",
              "      <td>100.0</td>\n",
              "      <td>No reviews</td>\n",
              "      <td>Delivery</td>\n",
              "      <td>Banashankari</td>\n",
              "    </tr>\n",
              "    <tr>\n",
              "      <th>759</th>\n",
              "      <td>https://www.zomato.com/bangalore/the-house-of-...</td>\n",
              "      <td>85, 7th Main Road, Nandakumar Layout, Ramanjan...</td>\n",
              "      <td>The House Of Vadapav</td>\n",
              "      <td>Yes</td>\n",
              "      <td>No</td>\n",
              "      <td>NaN</td>\n",
              "      <td>0</td>\n",
              "      <td>Banashankari</td>\n",
              "      <td>Quick Bites</td>\n",
              "      <td>NaN</td>\n",
              "      <td>150.0</td>\n",
              "      <td>[('Rated 5.0', 'RATED\\n  Good atmosphere ....l...</td>\n",
              "      <td>Dine-out</td>\n",
              "      <td>Banashankari</td>\n",
              "    </tr>\n",
              "    <tr>\n",
              "      <th>6887</th>\n",
              "      <td>https://www.zomato.com/bangalore/noodle-oodle-...</td>\n",
              "      <td>V3/1, NGEF, Industrial Estate, Mahadevapura Po...</td>\n",
              "      <td>Noodle Oodle</td>\n",
              "      <td>Yes</td>\n",
              "      <td>No</td>\n",
              "      <td>3.6</td>\n",
              "      <td>9</td>\n",
              "      <td>Whitefield</td>\n",
              "      <td>Delivery</td>\n",
              "      <td>NaN</td>\n",
              "      <td>400.0</td>\n",
              "      <td>[('Rated 4.0', 'RATED\\n  Lil oily else good'),...</td>\n",
              "      <td>Delivery</td>\n",
              "      <td>Brookefield</td>\n",
              "    </tr>\n",
              "    <tr>\n",
              "      <th>6897</th>\n",
              "      <td>https://www.zomato.com/bangalore/taste-of-chet...</td>\n",
              "      <td>V3/1, NGEF, Industrial Estate, Mahadevapura Po...</td>\n",
              "      <td>Taste of Chettinad</td>\n",
              "      <td>Yes</td>\n",
              "      <td>No</td>\n",
              "      <td>NaN</td>\n",
              "      <td>0</td>\n",
              "      <td>Whitefield</td>\n",
              "      <td>Delivery</td>\n",
              "      <td>NaN</td>\n",
              "      <td>400.0</td>\n",
              "      <td>[('Rated 1.0', 'RATED\\n  Biryani quantity was ...</td>\n",
              "      <td>Delivery</td>\n",
              "      <td>Brookefield</td>\n",
              "    </tr>\n",
              "    <tr>\n",
              "      <th>13591</th>\n",
              "      <td>https://www.zomato.com/bangalore/delhi-food-fa...</td>\n",
              "      <td>10, Shanthipura Road, Beside HDFC Bank, Electr...</td>\n",
              "      <td>Delhi Food Factory</td>\n",
              "      <td>Yes</td>\n",
              "      <td>No</td>\n",
              "      <td>NaN</td>\n",
              "      <td>0</td>\n",
              "      <td>Electronic City</td>\n",
              "      <td>Delivery</td>\n",
              "      <td>NaN</td>\n",
              "      <td>500.0</td>\n",
              "      <td>[('Rated 1.0', 'RATED\\n  Horrible experience. ...</td>\n",
              "      <td>Delivery</td>\n",
              "      <td>Electronic City</td>\n",
              "    </tr>\n",
              "    <tr>\n",
              "      <th>22236</th>\n",
              "      <td>https://www.zomato.com/bangalore/lassi-spot-ku...</td>\n",
              "      <td>728, 24th Cross, Opposite SBI Bank, 1st Stage,...</td>\n",
              "      <td>Lassi Spot</td>\n",
              "      <td>Yes</td>\n",
              "      <td>No</td>\n",
              "      <td>3.3</td>\n",
              "      <td>4</td>\n",
              "      <td>Kumaraswamy Layout</td>\n",
              "      <td>Beverage Shop</td>\n",
              "      <td>NaN</td>\n",
              "      <td>100.0</td>\n",
              "      <td>No reviews</td>\n",
              "      <td>Delivery</td>\n",
              "      <td>JP Nagar</td>\n",
              "    </tr>\n",
              "    <tr>\n",
              "      <th>23399</th>\n",
              "      <td>https://www.zomato.com/bangalore/teachate-expr...</td>\n",
              "      <td>283, 3rd Cross Road, 3rd Phase, JP Nagar, Beng...</td>\n",
              "      <td>TeaChaTe Express</td>\n",
              "      <td>No</td>\n",
              "      <td>No</td>\n",
              "      <td>NaN</td>\n",
              "      <td>0</td>\n",
              "      <td>JP Nagar</td>\n",
              "      <td>Food Court</td>\n",
              "      <td>NaN</td>\n",
              "      <td>NaN</td>\n",
              "      <td>[('Rated 5.0', 'RATED\\n  wow...............\\no...</td>\n",
              "      <td>Dine-out</td>\n",
              "      <td>JP Nagar</td>\n",
              "    </tr>\n",
              "    <tr>\n",
              "      <th>24725</th>\n",
              "      <td>https://www.zomato.com/bangalore/swagatham-ray...</td>\n",
              "      <td>604, 2nd Block, HBR Layout Kalyan Nagar, Banga...</td>\n",
              "      <td>Swagatham Rayalaseema Ruchulu</td>\n",
              "      <td>Yes</td>\n",
              "      <td>No</td>\n",
              "      <td>3.3</td>\n",
              "      <td>24</td>\n",
              "      <td>Kalyan Nagar</td>\n",
              "      <td>Casual Dining</td>\n",
              "      <td>NaN</td>\n",
              "      <td>600.0</td>\n",
              "      <td>[('Rated 1.0', \"RATED\\n  Mediocre!\\n\\nWe went ...</td>\n",
              "      <td>Dine-out</td>\n",
              "      <td>Kalyan Nagar</td>\n",
              "    </tr>\n",
              "    <tr>\n",
              "      <th>26186</th>\n",
              "      <td>https://www.zomato.com/bangalore/swagatham-ray...</td>\n",
              "      <td>604, 2nd Block, HBR Layout Kalyan Nagar, Banga...</td>\n",
              "      <td>Swagatham Rayalaseema Ruchulu</td>\n",
              "      <td>Yes</td>\n",
              "      <td>No</td>\n",
              "      <td>3.3</td>\n",
              "      <td>24</td>\n",
              "      <td>Kalyan Nagar</td>\n",
              "      <td>Casual Dining</td>\n",
              "      <td>NaN</td>\n",
              "      <td>600.0</td>\n",
              "      <td>[('Rated 1.0', \"RATED\\n  Mediocre!\\n\\nWe went ...</td>\n",
              "      <td>Dine-out</td>\n",
              "      <td>Kammanahalli</td>\n",
              "    </tr>\n",
              "    <tr>\n",
              "      <th>39171</th>\n",
              "      <td>https://www.zomato.com/bangalore/al-madina-res...</td>\n",
              "      <td>127, NR Road, City Market, Bangalore</td>\n",
              "      <td>Al-Madina Restaurant</td>\n",
              "      <td>No</td>\n",
              "      <td>No</td>\n",
              "      <td>3.6</td>\n",
              "      <td>31</td>\n",
              "      <td>City Market</td>\n",
              "      <td>Casual Dining</td>\n",
              "      <td>NaN</td>\n",
              "      <td>NaN</td>\n",
              "      <td>[('Rated 1.0', 'RATED\\n  One of the worst hote...</td>\n",
              "      <td>Dine-out</td>\n",
              "      <td>Lavelle Road</td>\n",
              "    </tr>\n",
              "    <tr>\n",
              "      <th>40625</th>\n",
              "      <td>https://www.zomato.com/bangalore/noodle-oodle-...</td>\n",
              "      <td>V3/1, NGEF, Industrial Estate, Mahadevapura Po...</td>\n",
              "      <td>Noodle Oodle</td>\n",
              "      <td>Yes</td>\n",
              "      <td>No</td>\n",
              "      <td>3.7</td>\n",
              "      <td>12</td>\n",
              "      <td>Whitefield</td>\n",
              "      <td>Delivery</td>\n",
              "      <td>NaN</td>\n",
              "      <td>400.0</td>\n",
              "      <td>[('Rated 4.0', 'RATED\\n  Lil oily else good'),...</td>\n",
              "      <td>Delivery</td>\n",
              "      <td>Marathahalli</td>\n",
              "    </tr>\n",
              "    <tr>\n",
              "      <th>40640</th>\n",
              "      <td>https://www.zomato.com/bangalore/taste-of-chet...</td>\n",
              "      <td>V3/1, NGEF, Industrial Estate, Mahadevapura Po...</td>\n",
              "      <td>Taste of Chettinad</td>\n",
              "      <td>Yes</td>\n",
              "      <td>No</td>\n",
              "      <td>NaN</td>\n",
              "      <td>0</td>\n",
              "      <td>Whitefield</td>\n",
              "      <td>Delivery</td>\n",
              "      <td>NaN</td>\n",
              "      <td>400.0</td>\n",
              "      <td>[('Rated 1.0', 'RATED\\n  Biryani quantity was ...</td>\n",
              "      <td>Delivery</td>\n",
              "      <td>Marathahalli</td>\n",
              "    </tr>\n",
              "    <tr>\n",
              "      <th>43169</th>\n",
              "      <td>https://www.zomato.com/bangalore/orchard-fresh...</td>\n",
              "      <td>10/ A 17th E Cross, Ashwarya Layout I, 2nd Sta...</td>\n",
              "      <td>Orchard Fresh</td>\n",
              "      <td>No</td>\n",
              "      <td>No</td>\n",
              "      <td>3.4</td>\n",
              "      <td>4</td>\n",
              "      <td>Indiranagar</td>\n",
              "      <td>Dessert Parlor</td>\n",
              "      <td>NaN</td>\n",
              "      <td>NaN</td>\n",
              "      <td>[('Rated 5.0', 'RATED\\n  Amazing ice creams no...</td>\n",
              "      <td>Desserts</td>\n",
              "      <td>MG Road</td>\n",
              "    </tr>\n",
              "    <tr>\n",
              "      <th>45813</th>\n",
              "      <td>https://www.zomato.com/bangalore/rajdhani-thal...</td>\n",
              "      <td>1st Floor, Salarpuria Landmark, HAL 2nd Stage,...</td>\n",
              "      <td>Rajdhani Thali Restaurant</td>\n",
              "      <td>No</td>\n",
              "      <td>No</td>\n",
              "      <td>4.0</td>\n",
              "      <td>1137</td>\n",
              "      <td>Indiranagar</td>\n",
              "      <td>Casual Dining</td>\n",
              "      <td>NaN</td>\n",
              "      <td>NaN</td>\n",
              "      <td>[('Rated 3.0', 'RATED\\n  Love the thalis at Ra...</td>\n",
              "      <td>Dine-out</td>\n",
              "      <td>Old Airport Road</td>\n",
              "    </tr>\n",
              "    <tr>\n",
              "      <th>50355</th>\n",
              "      <td>https://www.zomato.com/bangalore/noodle-oodle-...</td>\n",
              "      <td>V3/1, NGEF, Industrial Estate, Mahadevapura Po...</td>\n",
              "      <td>Noodle Oodle</td>\n",
              "      <td>Yes</td>\n",
              "      <td>No</td>\n",
              "      <td>3.7</td>\n",
              "      <td>12</td>\n",
              "      <td>Whitefield</td>\n",
              "      <td>Delivery</td>\n",
              "      <td>NaN</td>\n",
              "      <td>400.0</td>\n",
              "      <td>[('Rated 4.0', 'RATED\\n  Lil oily else good'),...</td>\n",
              "      <td>Delivery</td>\n",
              "      <td>Whitefield</td>\n",
              "    </tr>\n",
              "    <tr>\n",
              "      <th>50439</th>\n",
              "      <td>https://www.zomato.com/bangalore/taste-of-chet...</td>\n",
              "      <td>V3/1, NGEF, Industrial Estate, Mahadevapura Po...</td>\n",
              "      <td>Taste of Chettinad</td>\n",
              "      <td>Yes</td>\n",
              "      <td>No</td>\n",
              "      <td>3.2</td>\n",
              "      <td>6</td>\n",
              "      <td>Whitefield</td>\n",
              "      <td>Delivery</td>\n",
              "      <td>NaN</td>\n",
              "      <td>400.0</td>\n",
              "      <td>[('Rated 1.0', 'RATED\\n  The biryani was not e...</td>\n",
              "      <td>Delivery</td>\n",
              "      <td>Whitefield</td>\n",
              "    </tr>\n",
              "  </tbody>\n",
              "</table>\n",
              "</div>"
            ],
            "text/plain": [
              "                                                     url  \\\n",
              "438    https://www.zomato.com/bangalore/the-house-of-...   \n",
              "440    https://www.zomato.com/bangalore/lassi-spot-ku...   \n",
              "759    https://www.zomato.com/bangalore/the-house-of-...   \n",
              "6887   https://www.zomato.com/bangalore/noodle-oodle-...   \n",
              "6897   https://www.zomato.com/bangalore/taste-of-chet...   \n",
              "13591  https://www.zomato.com/bangalore/delhi-food-fa...   \n",
              "22236  https://www.zomato.com/bangalore/lassi-spot-ku...   \n",
              "23399  https://www.zomato.com/bangalore/teachate-expr...   \n",
              "24725  https://www.zomato.com/bangalore/swagatham-ray...   \n",
              "26186  https://www.zomato.com/bangalore/swagatham-ray...   \n",
              "39171  https://www.zomato.com/bangalore/al-madina-res...   \n",
              "40625  https://www.zomato.com/bangalore/noodle-oodle-...   \n",
              "40640  https://www.zomato.com/bangalore/taste-of-chet...   \n",
              "43169  https://www.zomato.com/bangalore/orchard-fresh...   \n",
              "45813  https://www.zomato.com/bangalore/rajdhani-thal...   \n",
              "50355  https://www.zomato.com/bangalore/noodle-oodle-...   \n",
              "50439  https://www.zomato.com/bangalore/taste-of-chet...   \n",
              "\n",
              "                                                 address  \\\n",
              "438    85, 7th Main Road, Nandakumar Layout, Ramanjan...   \n",
              "440    728, 24th Cross, Opposite SBI Bank, 1st Stage,...   \n",
              "759    85, 7th Main Road, Nandakumar Layout, Ramanjan...   \n",
              "6887   V3/1, NGEF, Industrial Estate, Mahadevapura Po...   \n",
              "6897   V3/1, NGEF, Industrial Estate, Mahadevapura Po...   \n",
              "13591  10, Shanthipura Road, Beside HDFC Bank, Electr...   \n",
              "22236  728, 24th Cross, Opposite SBI Bank, 1st Stage,...   \n",
              "23399  283, 3rd Cross Road, 3rd Phase, JP Nagar, Beng...   \n",
              "24725  604, 2nd Block, HBR Layout Kalyan Nagar, Banga...   \n",
              "26186  604, 2nd Block, HBR Layout Kalyan Nagar, Banga...   \n",
              "39171               127, NR Road, City Market, Bangalore   \n",
              "40625  V3/1, NGEF, Industrial Estate, Mahadevapura Po...   \n",
              "40640  V3/1, NGEF, Industrial Estate, Mahadevapura Po...   \n",
              "43169  10/ A 17th E Cross, Ashwarya Layout I, 2nd Sta...   \n",
              "45813  1st Floor, Salarpuria Landmark, HAL 2nd Stage,...   \n",
              "50355  V3/1, NGEF, Industrial Estate, Mahadevapura Po...   \n",
              "50439  V3/1, NGEF, Industrial Estate, Mahadevapura Po...   \n",
              "\n",
              "                                name online_order book_table  rate  votes  \\\n",
              "438             The House Of Vadapav          Yes         No   NaN      0   \n",
              "440                       Lassi Spot          Yes         No   3.3      4   \n",
              "759             The House Of Vadapav          Yes         No   NaN      0   \n",
              "6887                    Noodle Oodle          Yes         No   3.6      9   \n",
              "6897              Taste of Chettinad          Yes         No   NaN      0   \n",
              "13591             Delhi Food Factory          Yes         No   NaN      0   \n",
              "22236                     Lassi Spot          Yes         No   3.3      4   \n",
              "23399               TeaChaTe Express           No         No   NaN      0   \n",
              "24725  Swagatham Rayalaseema Ruchulu          Yes         No   3.3     24   \n",
              "26186  Swagatham Rayalaseema Ruchulu          Yes         No   3.3     24   \n",
              "39171           Al-Madina Restaurant           No         No   3.6     31   \n",
              "40625                   Noodle Oodle          Yes         No   3.7     12   \n",
              "40640             Taste of Chettinad          Yes         No   NaN      0   \n",
              "43169                  Orchard Fresh           No         No   3.4      4   \n",
              "45813      Rajdhani Thali Restaurant           No         No   4.0   1137   \n",
              "50355                   Noodle Oodle          Yes         No   3.7     12   \n",
              "50439             Taste of Chettinad          Yes         No   3.2      6   \n",
              "\n",
              "                 location       rest_type cuisines  cost_for_two  \\\n",
              "438          Banashankari     Quick Bites      NaN         150.0   \n",
              "440    Kumaraswamy Layout   Beverage Shop      NaN         100.0   \n",
              "759          Banashankari     Quick Bites      NaN         150.0   \n",
              "6887           Whitefield        Delivery      NaN         400.0   \n",
              "6897           Whitefield        Delivery      NaN         400.0   \n",
              "13591     Electronic City        Delivery      NaN         500.0   \n",
              "22236  Kumaraswamy Layout   Beverage Shop      NaN         100.0   \n",
              "23399            JP Nagar      Food Court      NaN           NaN   \n",
              "24725        Kalyan Nagar   Casual Dining      NaN         600.0   \n",
              "26186        Kalyan Nagar   Casual Dining      NaN         600.0   \n",
              "39171         City Market   Casual Dining      NaN           NaN   \n",
              "40625          Whitefield        Delivery      NaN         400.0   \n",
              "40640          Whitefield        Delivery      NaN         400.0   \n",
              "43169         Indiranagar  Dessert Parlor      NaN           NaN   \n",
              "45813         Indiranagar   Casual Dining      NaN           NaN   \n",
              "50355          Whitefield        Delivery      NaN         400.0   \n",
              "50439          Whitefield        Delivery      NaN         400.0   \n",
              "\n",
              "                                            reviews_list list_type  \\\n",
              "438    [('Rated 5.0', 'RATED\\n  Good atmosphere ....l...  Delivery   \n",
              "440                                           No reviews  Delivery   \n",
              "759    [('Rated 5.0', 'RATED\\n  Good atmosphere ....l...  Dine-out   \n",
              "6887   [('Rated 4.0', 'RATED\\n  Lil oily else good'),...  Delivery   \n",
              "6897   [('Rated 1.0', 'RATED\\n  Biryani quantity was ...  Delivery   \n",
              "13591  [('Rated 1.0', 'RATED\\n  Horrible experience. ...  Delivery   \n",
              "22236                                         No reviews  Delivery   \n",
              "23399  [('Rated 5.0', 'RATED\\n  wow...............\\no...  Dine-out   \n",
              "24725  [('Rated 1.0', \"RATED\\n  Mediocre!\\n\\nWe went ...  Dine-out   \n",
              "26186  [('Rated 1.0', \"RATED\\n  Mediocre!\\n\\nWe went ...  Dine-out   \n",
              "39171  [('Rated 1.0', 'RATED\\n  One of the worst hote...  Dine-out   \n",
              "40625  [('Rated 4.0', 'RATED\\n  Lil oily else good'),...  Delivery   \n",
              "40640  [('Rated 1.0', 'RATED\\n  Biryani quantity was ...  Delivery   \n",
              "43169  [('Rated 5.0', 'RATED\\n  Amazing ice creams no...  Desserts   \n",
              "45813  [('Rated 3.0', 'RATED\\n  Love the thalis at Ra...  Dine-out   \n",
              "50355  [('Rated 4.0', 'RATED\\n  Lil oily else good'),...  Delivery   \n",
              "50439  [('Rated 1.0', 'RATED\\n  The biryani was not e...  Delivery   \n",
              "\n",
              "              list_city  \n",
              "438        Banashankari  \n",
              "440        Banashankari  \n",
              "759        Banashankari  \n",
              "6887        Brookefield  \n",
              "6897        Brookefield  \n",
              "13591   Electronic City  \n",
              "22236          JP Nagar  \n",
              "23399          JP Nagar  \n",
              "24725      Kalyan Nagar  \n",
              "26186      Kammanahalli  \n",
              "39171      Lavelle Road  \n",
              "40625      Marathahalli  \n",
              "40640      Marathahalli  \n",
              "43169           MG Road  \n",
              "45813  Old Airport Road  \n",
              "50355        Whitefield  \n",
              "50439        Whitefield  "
            ]
          },
          "execution_count": 22,
          "metadata": {},
          "output_type": "execute_result"
        }
      ],
      "source": [
        "# check the rows with null values under cuisine to find a relationship with the other columns, in order to figure out how to impute the null values\n",
        "df[df.cuisines.isnull()==True]"
      ]
    },
    {
      "cell_type": "markdown",
      "id": "78c11a8d",
      "metadata": {
        "papermill": {
          "duration": 0.06957,
          "end_time": "2021-12-26T08:03:40.471050",
          "exception": false,
          "start_time": "2021-12-26T08:03:40.401480",
          "status": "completed"
        },
        "tags": [],
        "id": "78c11a8d"
      },
      "source": [
        "It does not really look like there is a way to properly impute the values. There are also a lot of unique values under cuisines and it would be difficult to accurately impute the values. It also does not really make sense for a restaurant to have no cuisine. With only 14 rows, I decided to just drop those columns."
      ]
    },
    {
      "cell_type": "code",
      "execution_count": null,
      "id": "a6ed166c",
      "metadata": {
        "execution": {
          "iopub.execute_input": "2021-12-26T08:03:40.616860Z",
          "iopub.status.busy": "2021-12-26T08:03:40.616160Z",
          "iopub.status.idle": "2021-12-26T08:03:40.636355Z",
          "shell.execute_reply": "2021-12-26T08:03:40.636919Z",
          "shell.execute_reply.started": "2021-12-25T23:25:33.212956Z"
        },
        "papermill": {
          "duration": 0.096014,
          "end_time": "2021-12-26T08:03:40.637099",
          "exception": false,
          "start_time": "2021-12-26T08:03:40.541085",
          "status": "completed"
        },
        "tags": [],
        "id": "a6ed166c"
      },
      "outputs": [],
      "source": [
        "# Drop the rows with null values under cuisines\n",
        "df.dropna(subset=['cuisines'], axis=0, inplace = True)"
      ]
    },
    {
      "cell_type": "markdown",
      "id": "3b64763d",
      "metadata": {
        "papermill": {
          "duration": 0.069321,
          "end_time": "2021-12-26T08:03:40.776181",
          "exception": false,
          "start_time": "2021-12-26T08:03:40.706860",
          "status": "completed"
        },
        "tags": [],
        "id": "3b64763d"
      },
      "source": [
        "Upon further inspection it seems that most of the rows with null values under rating also only have a few reviews in the reviews list. Taking the ratings under the reveiws list is most likely not indicative of that restaurant's real rating so I will just drop those rows as well. "
      ]
    },
    {
      "cell_type": "code",
      "execution_count": null,
      "id": "cd5f1f89",
      "metadata": {
        "execution": {
          "iopub.execute_input": "2021-12-26T08:03:40.919683Z",
          "iopub.status.busy": "2021-12-26T08:03:40.918957Z",
          "iopub.status.idle": "2021-12-26T08:03:40.946737Z",
          "shell.execute_reply": "2021-12-26T08:03:40.947288Z",
          "shell.execute_reply.started": "2021-12-25T23:25:33.245277Z"
        },
        "papermill": {
          "duration": 0.101401,
          "end_time": "2021-12-26T08:03:40.947523",
          "exception": false,
          "start_time": "2021-12-26T08:03:40.846122",
          "status": "completed"
        },
        "tags": [],
        "id": "cd5f1f89"
      },
      "outputs": [],
      "source": [
        "# Dropping the rows with null values in rate and cost_for_two\n",
        "df.dropna(subset=['cost_for_two'], axis = 0, inplace = True)\n",
        "df.dropna(subset=['rate'], axis = 0, inplace = True)"
      ]
    },
    {
      "cell_type": "markdown",
      "id": "2a5b0cc0",
      "metadata": {
        "papermill": {
          "duration": 0.070588,
          "end_time": "2021-12-26T08:03:41.088076",
          "exception": false,
          "start_time": "2021-12-26T08:03:41.017488",
          "status": "completed"
        },
        "tags": [],
        "id": "2a5b0cc0"
      },
      "source": [
        "# Data Visualization\n",
        "Now that we have cleaned up our data, we can now begin visualizing to spot any relationships between the data and maybe it can give us ideas on features we could make."
      ]
    },
    {
      "cell_type": "code",
      "execution_count": null,
      "id": "5acbe8fb",
      "metadata": {
        "execution": {
          "iopub.execute_input": "2021-12-26T08:03:41.233075Z",
          "iopub.status.busy": "2021-12-26T08:03:41.232301Z",
          "iopub.status.idle": "2021-12-26T08:03:41.356069Z",
          "shell.execute_reply": "2021-12-26T08:03:41.355527Z",
          "shell.execute_reply.started": "2021-12-25T23:25:33.274951Z"
        },
        "papermill": {
          "duration": 0.196891,
          "end_time": "2021-12-26T08:03:41.356221",
          "exception": false,
          "start_time": "2021-12-26T08:03:41.159330",
          "status": "completed"
        },
        "tags": [],
        "id": "5acbe8fb",
        "outputId": "1dc4c80e-5618-48bc-d0bc-ca0a8efecb62"
      },
      "outputs": [
        {
          "data": {
            "image/png": "[encoded data removed]",
            "text/plain": [
              "<Figure size 432x288 with 1 Axes>"
            ]
          },
          "metadata": {},
          "output_type": "display_data"
        }
      ],
      "source": [
        "#pie chart to show what percent of restaurants offer table booking\n",
        "data = [90160,541002]\n",
        "label = ['Yes', 'No']\n",
        "plt.pie(data, labels = label, autopct='%1.1f%%')\n",
        "plt.show()"
      ]
    },
    {
      "cell_type": "markdown",
      "id": "c4f2b536",
      "metadata": {
        "papermill": {
          "duration": 0.070442,
          "end_time": "2021-12-26T08:03:41.497690",
          "exception": false,
          "start_time": "2021-12-26T08:03:41.427248",
          "status": "completed"
        },
        "tags": [],
        "id": "c4f2b536"
      },
      "source": [
        "It looks like more than 80% of the restaurants do not offer table booking, which makes sense because oftentimes only more high end restaurants offer this."
      ]
    },
    {
      "cell_type": "code",
      "execution_count": null,
      "id": "a11540e6",
      "metadata": {
        "execution": {
          "iopub.execute_input": "2021-12-26T08:03:41.650497Z",
          "iopub.status.busy": "2021-12-26T08:03:41.649748Z",
          "iopub.status.idle": "2021-12-26T08:03:41.722714Z",
          "shell.execute_reply": "2021-12-26T08:03:41.722113Z",
          "shell.execute_reply.started": "2021-12-25T23:25:33.400572Z"
        },
        "papermill": {
          "duration": 0.153087,
          "end_time": "2021-12-26T08:03:41.722898",
          "exception": false,
          "start_time": "2021-12-26T08:03:41.569811",
          "status": "completed"
        },
        "tags": [],
        "id": "a11540e6",
        "outputId": "0789fb99-1323-4303-acf1-956634fec042"
      },
      "outputs": [
        {
          "data": {
            "image/png": "[encoded data removed]",
            "text/plain": [
              "<Figure size 432x288 with 1 Axes>"
            ]
          },
          "metadata": {},
          "output_type": "display_data"
        }
      ],
      "source": [
        "# Show what percent of restaurants allow you to order online\n",
        "data = [402836,228326]\n",
        "label = ['Yes', 'No']\n",
        "plt.pie(data, labels = label, autopct='%1.1f%%')\n",
        "plt.show()"
      ]
    },
    {
      "cell_type": "markdown",
      "id": "73c32d6d",
      "metadata": {
        "papermill": {
          "duration": 0.071069,
          "end_time": "2021-12-26T08:03:41.865976",
          "exception": false,
          "start_time": "2021-12-26T08:03:41.794907",
          "status": "completed"
        },
        "tags": [],
        "id": "73c32d6d"
      },
      "source": [
        "It seems that more than 60% do allow you to order online, while majority do offer online ordering, a large amount still do not. This is possibly due to these restaurants not being able to pay for the commissions or perhaps they value having their customers dine in."
      ]
    },
    {
      "cell_type": "code",
      "execution_count": null,
      "id": "2c851c5d",
      "metadata": {
        "execution": {
          "iopub.execute_input": "2021-12-26T08:03:42.023628Z",
          "iopub.status.busy": "2021-12-26T08:03:42.022920Z",
          "iopub.status.idle": "2021-12-26T08:03:42.063199Z",
          "shell.execute_reply": "2021-12-26T08:03:42.062617Z",
          "shell.execute_reply.started": "2021-12-25T23:25:33.475227Z"
        },
        "papermill": {
          "duration": 0.125257,
          "end_time": "2021-12-26T08:03:42.063357",
          "exception": false,
          "start_time": "2021-12-26T08:03:41.938100",
          "status": "completed"
        },
        "tags": [],
        "id": "2c851c5d"
      },
      "outputs": [],
      "source": [
        "# Making new dataframes that are filtered to show which restaurants offer online ordering and which allow you to order online\n",
        "df1 = df[df.online_order == 'Yes']\n",
        "df2 = df[df.online_order == 'No']\n",
        "df3 = df[df.book_table == 'Yes']\n",
        "df4 = df[df.book_table == 'No']"
      ]
    },
    {
      "cell_type": "code",
      "execution_count": null,
      "id": "ca8728d5",
      "metadata": {
        "execution": {
          "iopub.execute_input": "2021-12-26T08:03:42.250116Z",
          "iopub.status.busy": "2021-12-26T08:03:42.233179Z",
          "iopub.status.idle": "2021-12-26T08:03:42.722514Z",
          "shell.execute_reply": "2021-12-26T08:03:42.721927Z",
          "shell.execute_reply.started": "2021-12-25T23:25:33.524063Z"
        },
        "papermill": {
          "duration": 0.587955,
          "end_time": "2021-12-26T08:03:42.722675",
          "exception": false,
          "start_time": "2021-12-26T08:03:42.134720",
          "status": "completed"
        },
        "tags": [],
        "id": "ca8728d5",
        "outputId": "1572cb0c-0e1e-4e27-d074-8ff9d814750d"
      },
      "outputs": [
        {
          "data": {
            "text/plain": [
              "<AxesSubplot:xlabel='rate', ylabel='Density'>"
            ]
          },
          "execution_count": 28,
          "metadata": {},
          "output_type": "execute_result"
        },
        {
          "data": {
            "image/png": "[encoded data removed]",
            "text/plain": [
              "<Figure size 432x288 with 1 Axes>"
            ]
          },
          "metadata": {
            "needs_background": "light"
          },
          "output_type": "display_data"
        }
      ],
      "source": [
        "# A plot comapring the rate distribution for restaurants that allow you to order online\n",
        "sns.kdeplot(data=df1.rate, label = 'can order online', shade= True)\n",
        "sns.kdeplot(data=df2.rate, label = 'cannot order online', shade= True)"
      ]
    },
    {
      "cell_type": "markdown",
      "id": "125740a6",
      "metadata": {
        "papermill": {
          "duration": 0.072596,
          "end_time": "2021-12-26T08:03:42.867925",
          "exception": false,
          "start_time": "2021-12-26T08:03:42.795329",
          "status": "completed"
        },
        "tags": [],
        "id": "125740a6"
      },
      "source": [
        "It looks like restaurants that allow you to order online get higher average ratings. It looks like that customers value convenience."
      ]
    },
    {
      "cell_type": "code",
      "execution_count": null,
      "id": "e9bba798",
      "metadata": {
        "execution": {
          "iopub.execute_input": "2021-12-26T08:03:43.060175Z",
          "iopub.status.busy": "2021-12-26T08:03:43.039223Z",
          "iopub.status.idle": "2021-12-26T08:03:43.529428Z",
          "shell.execute_reply": "2021-12-26T08:03:43.528906Z",
          "shell.execute_reply.started": "2021-12-25T23:25:34.008642Z"
        },
        "papermill": {
          "duration": 0.589111,
          "end_time": "2021-12-26T08:03:43.529575",
          "exception": false,
          "start_time": "2021-12-26T08:03:42.940464",
          "status": "completed"
        },
        "tags": [],
        "id": "e9bba798",
        "outputId": "fe9378a6-2ae2-46e3-b6eb-59a526caec25"
      },
      "outputs": [
        {
          "data": {
            "text/plain": [
              "<AxesSubplot:xlabel='cost_for_two', ylabel='Density'>"
            ]
          },
          "execution_count": 29,
          "metadata": {},
          "output_type": "execute_result"
        },
        {
          "data": {
            "image/png": "[encoded data removed]",
            "text/plain": [
              "<Figure size 432x288 with 1 Axes>"
            ]
          },
          "metadata": {
            "needs_background": "light"
          },
          "output_type": "display_data"
        }
      ],
      "source": [
        "sns.kdeplot(data=df1.cost_for_two, label = 'can order online', shade= True)\n",
        "sns.kdeplot(data=df2.cost_for_two, label = 'cannot order online', shade= True)"
      ]
    },
    {
      "cell_type": "markdown",
      "id": "f7d6f6fc",
      "metadata": {
        "papermill": {
          "duration": 0.07448,
          "end_time": "2021-12-26T08:03:43.679147",
          "exception": false,
          "start_time": "2021-12-26T08:03:43.604667",
          "status": "completed"
        },
        "tags": [],
        "id": "f7d6f6fc"
      },
      "source": [
        "Those that do not offer online ordering do have higher densitites at higher prices which supports my theory that some high end restaurants who prefer to have their customers dine in, though majority of the restaurants do have costs under 1000. "
      ]
    },
    {
      "cell_type": "code",
      "execution_count": null,
      "id": "c2c52c84",
      "metadata": {
        "execution": {
          "iopub.execute_input": "2021-12-26T08:03:43.830772Z",
          "iopub.status.busy": "2021-12-26T08:03:43.830132Z",
          "iopub.status.idle": "2021-12-26T08:03:44.277125Z",
          "shell.execute_reply": "2021-12-26T08:03:44.276344Z",
          "shell.execute_reply.started": "2021-12-25T23:25:34.512381Z"
        },
        "papermill": {
          "duration": 0.523486,
          "end_time": "2021-12-26T08:03:44.277286",
          "exception": false,
          "start_time": "2021-12-26T08:03:43.753800",
          "status": "completed"
        },
        "tags": [],
        "id": "c2c52c84",
        "outputId": "c35a712f-10f0-4ab4-ebfd-bea4a8e45c17"
      },
      "outputs": [
        {
          "data": {
            "text/plain": [
              "<AxesSubplot:xlabel='rate', ylabel='Density'>"
            ]
          },
          "execution_count": 30,
          "metadata": {},
          "output_type": "execute_result"
        },
        {
          "data": {
            "image/png": "[encoded data removed]",
            "text/plain": [
              "<Figure size 432x288 with 1 Axes>"
            ]
          },
          "metadata": {
            "needs_background": "light"
          },
          "output_type": "display_data"
        }
      ],
      "source": [
        "# A plot comparing restaurants that offer table booking and those that don't\n",
        "sns.kdeplot(data=df3.rate, label = 'can table book', shade= True)\n",
        "sns.kdeplot(data=df4.rate, label = 'cannot table book', shade= True)"
      ]
    },
    {
      "cell_type": "markdown",
      "id": "6a822e93",
      "metadata": {
        "papermill": {
          "duration": 0.075126,
          "end_time": "2021-12-26T08:03:44.430210",
          "exception": false,
          "start_time": "2021-12-26T08:03:44.355084",
          "status": "completed"
        },
        "tags": [],
        "id": "6a822e93"
      },
      "source": [
        "It looks like that restaurants that offer table booking have a higher average rating. This makes sense because these restaurants tend to be more high end and will have good food and customer service"
      ]
    },
    {
      "cell_type": "code",
      "execution_count": null,
      "id": "89e2d31a",
      "metadata": {
        "execution": {
          "iopub.execute_input": "2021-12-26T08:03:44.596745Z",
          "iopub.status.busy": "2021-12-26T08:03:44.595608Z",
          "iopub.status.idle": "2021-12-26T08:03:45.041175Z",
          "shell.execute_reply": "2021-12-26T08:03:45.040563Z",
          "shell.execute_reply.started": "2021-12-25T23:25:34.951688Z"
        },
        "papermill": {
          "duration": 0.534962,
          "end_time": "2021-12-26T08:03:45.041327",
          "exception": false,
          "start_time": "2021-12-26T08:03:44.506365",
          "status": "completed"
        },
        "tags": [],
        "id": "89e2d31a",
        "outputId": "738e744b-9c53-4ce3-f2af-7e51dbcd1eba"
      },
      "outputs": [
        {
          "data": {
            "text/plain": [
              "<AxesSubplot:xlabel='cost_for_two', ylabel='Density'>"
            ]
          },
          "execution_count": 31,
          "metadata": {},
          "output_type": "execute_result"
        },
        {
          "data": {
            "image/png": "[encoded data removed]",
            "text/plain": [
              "<Figure size 432x288 with 1 Axes>"
            ]
          },
          "metadata": {
            "needs_background": "light"
          },
          "output_type": "display_data"
        }
      ],
      "source": [
        "# A plot comparing the price for restaurants who offer table booking and those that don't\n",
        "sns.kdeplot(data=df3.cost_for_two, label = 'can table book', shade= True)\n",
        "sns.kdeplot(data=df4.cost_for_two, label = 'cannot table book', shade= True)"
      ]
    },
    {
      "cell_type": "markdown",
      "id": "8b362e04",
      "metadata": {
        "papermill": {
          "duration": 0.076927,
          "end_time": "2021-12-26T08:03:45.196112",
          "exception": false,
          "start_time": "2021-12-26T08:03:45.119185",
          "status": "completed"
        },
        "tags": [],
        "id": "8b362e04"
      },
      "source": [
        "As expected, the restaurants that offer table booking have higher costs than those that don't."
      ]
    },
    {
      "cell_type": "code",
      "execution_count": null,
      "id": "e32d102d",
      "metadata": {
        "execution": {
          "iopub.execute_input": "2021-12-26T08:03:45.354354Z",
          "iopub.status.busy": "2021-12-26T08:03:45.353559Z",
          "iopub.status.idle": "2021-12-26T08:03:47.839589Z",
          "shell.execute_reply": "2021-12-26T08:03:47.840170Z",
          "shell.execute_reply.started": "2021-12-25T23:25:35.394441Z"
        },
        "papermill": {
          "duration": 2.567448,
          "end_time": "2021-12-26T08:03:47.840368",
          "exception": false,
          "start_time": "2021-12-26T08:03:45.272920",
          "status": "completed"
        },
        "tags": [],
        "id": "e32d102d",
        "outputId": "5654f296-5497-41fb-9edd-c70ad84b3ee6"
      },
      "outputs": [
        {
          "data": {
            "text/plain": [
              "<AxesSubplot:xlabel='cost_for_two', ylabel='rate'>"
            ]
          },
          "execution_count": 32,
          "metadata": {},
          "output_type": "execute_result"
        },
        {
          "data": {
            "image/png": "[encoded data removed]",
            "text/plain": [
              "<Figure size 1440x720 with 1 Axes>"
            ]
          },
          "metadata": {
            "needs_background": "light"
          },
          "output_type": "display_data"
        }
      ],
      "source": [
        "# A scatter plot showing the relationship betwee price and rating\n",
        "plt.figure(figsize=(20,10))\n",
        "sns.regplot(y=df.rate, x=df.cost_for_two)"
      ]
    },
    {
      "cell_type": "markdown",
      "id": "e8b25d01",
      "metadata": {
        "papermill": {
          "duration": 0.079982,
          "end_time": "2021-12-26T08:03:47.999243",
          "exception": false,
          "start_time": "2021-12-26T08:03:47.919261",
          "status": "completed"
        },
        "tags": [],
        "id": "e8b25d01"
      },
      "source": [
        "It looks like there is fairly strong correlation between cost and rate, which makes sense because those with higher cost will ensure that both the food and dining experience is good."
      ]
    },
    {
      "cell_type": "code",
      "execution_count": null,
      "id": "1b130e2c",
      "metadata": {
        "execution": {
          "iopub.execute_input": "2021-12-26T08:03:48.162144Z",
          "iopub.status.busy": "2021-12-26T08:03:48.161118Z",
          "iopub.status.idle": "2021-12-26T08:03:50.570523Z",
          "shell.execute_reply": "2021-12-26T08:03:50.570998Z",
          "shell.execute_reply.started": "2021-12-25T23:25:37.682224Z"
        },
        "papermill": {
          "duration": 2.49149,
          "end_time": "2021-12-26T08:03:50.571175",
          "exception": false,
          "start_time": "2021-12-26T08:03:48.079685",
          "status": "completed"
        },
        "tags": [],
        "id": "1b130e2c",
        "outputId": "2867c3ba-5fda-440f-ccec-058513449bfd"
      },
      "outputs": [
        {
          "data": {
            "text/plain": [
              "<AxesSubplot:xlabel='votes', ylabel='cost_for_two'>"
            ]
          },
          "execution_count": 33,
          "metadata": {},
          "output_type": "execute_result"
        },
        {
          "data": {
            "image/png": "[encoded data removed]",
            "text/plain": [
              "<Figure size 1440x720 with 1 Axes>"
            ]
          },
          "metadata": {
            "needs_background": "light"
          },
          "output_type": "display_data"
        }
      ],
      "source": [
        "# A scatter plot showing the relationship between cost and number of votes\n",
        "plt.figure(figsize=(20,10))\n",
        "sns.regplot(x=df.votes,y=df.cost_for_two)"
      ]
    },
    {
      "cell_type": "markdown",
      "id": "84a95b84",
      "metadata": {
        "papermill": {
          "duration": 0.079363,
          "end_time": "2021-12-26T08:03:50.730357",
          "exception": false,
          "start_time": "2021-12-26T08:03:50.650994",
          "status": "completed"
        },
        "tags": [],
        "id": "84a95b84"
      },
      "source": [
        "We can see here that there is a high density of points that are both under 1000 cost and under 2500 votes. A reason for this is because there are more restaurants that hover around that price range. There is still a correlation between cost and votes but not quite as strong and we can even see that the variation is higher as seen in the wider blue area around the line. This means that there could be certain outliers present in the data."
      ]
    },
    {
      "cell_type": "code",
      "execution_count": null,
      "id": "083cde98",
      "metadata": {
        "execution": {
          "iopub.execute_input": "2021-12-26T08:03:50.896522Z",
          "iopub.status.busy": "2021-12-26T08:03:50.895342Z",
          "iopub.status.idle": "2021-12-26T08:03:51.346396Z",
          "shell.execute_reply": "2021-12-26T08:03:51.346938Z",
          "shell.execute_reply.started": "2021-12-25T23:25:39.977272Z"
        },
        "papermill": {
          "duration": 0.537135,
          "end_time": "2021-12-26T08:03:51.347125",
          "exception": false,
          "start_time": "2021-12-26T08:03:50.809990",
          "status": "completed"
        },
        "tags": [],
        "id": "083cde98",
        "outputId": "fdb96e0d-312d-466e-b831-ac4e4b078b55"
      },
      "outputs": [
        {
          "data": {
            "text/plain": [
              "<AxesSubplot:xlabel='cost_for_two', ylabel='Density'>"
            ]
          },
          "execution_count": 34,
          "metadata": {},
          "output_type": "execute_result"
        },
        {
          "data": {
            "image/png": "[encoded data removed]",
            "text/plain": [
              "<Figure size 432x288 with 1 Axes>"
            ]
          },
          "metadata": {
            "needs_background": "light"
          },
          "output_type": "display_data"
        }
      ],
      "source": [
        "# A plot showing the distribution for cost\n",
        "sns.kdeplot(x = df.cost_for_two)"
      ]
    },
    {
      "cell_type": "markdown",
      "id": "731492cb",
      "metadata": {
        "papermill": {
          "duration": 0.082505,
          "end_time": "2021-12-26T08:03:51.512931",
          "exception": false,
          "start_time": "2021-12-26T08:03:51.430426",
          "status": "completed"
        },
        "tags": [],
        "id": "731492cb"
      },
      "source": [
        "This distribution is skewed with most restaurants have costs less than 1000."
      ]
    },
    {
      "cell_type": "code",
      "execution_count": null,
      "id": "dc28b3e3",
      "metadata": {
        "execution": {
          "iopub.execute_input": "2021-12-26T08:03:51.679415Z",
          "iopub.status.busy": "2021-12-26T08:03:51.678409Z",
          "iopub.status.idle": "2021-12-26T08:03:52.161047Z",
          "shell.execute_reply": "2021-12-26T08:03:52.161733Z",
          "shell.execute_reply.started": "2021-12-25T23:25:40.375268Z"
        },
        "papermill": {
          "duration": 0.567741,
          "end_time": "2021-12-26T08:03:52.161949",
          "exception": false,
          "start_time": "2021-12-26T08:03:51.594208",
          "status": "completed"
        },
        "tags": [],
        "id": "dc28b3e3",
        "outputId": "3ba575fe-2013-4b18-c050-c27e74dfab11"
      },
      "outputs": [
        {
          "data": {
            "text/plain": [
              "<AxesSubplot:xlabel='Count', ylabel='list_city'>"
            ]
          },
          "execution_count": 35,
          "metadata": {},
          "output_type": "execute_result"
        },
        {
          "data": {
            "image/png": "[encoded data removed]",
            "text/plain": [
              "<Figure size 432x288 with 1 Axes>"
            ]
          },
          "metadata": {
            "needs_background": "light"
          },
          "output_type": "display_data"
        }
      ],
      "source": [
        "# A plot showing the distribution of the listed cities\n",
        "sns.histplot(y=df.list_city, )"
      ]
    },
    {
      "cell_type": "code",
      "execution_count": null,
      "id": "f2e768dd",
      "metadata": {
        "execution": {
          "iopub.execute_input": "2021-12-26T08:03:52.334920Z",
          "iopub.status.busy": "2021-12-26T08:03:52.334211Z",
          "iopub.status.idle": "2021-12-26T08:03:52.565977Z",
          "shell.execute_reply": "2021-12-26T08:03:52.565217Z",
          "shell.execute_reply.started": "2021-12-25T23:25:40.793635Z"
        },
        "papermill": {
          "duration": 0.320934,
          "end_time": "2021-12-26T08:03:52.566127",
          "exception": false,
          "start_time": "2021-12-26T08:03:52.245193",
          "status": "completed"
        },
        "tags": [],
        "id": "f2e768dd",
        "outputId": "d8fa78a7-7400-4945-cfab-071b2782d1e6"
      },
      "outputs": [
        {
          "data": {
            "image/png": "[encoded data removed]",
            "text/plain": [
              "<Figure size 432x288 with 1 Axes>"
            ]
          },
          "metadata": {
            "needs_background": "light"
          },
          "output_type": "display_data"
        }
      ],
      "source": [
        "# A graph showing the cities which received the most number of votes\n",
        "city_votes = df.groupby('list_city').votes.sum().sort_values(ascending = False)[0:9]\n",
        "city_votes.plot(kind='barh').invert_yaxis()\n",
        "plt.show()"
      ]
    },
    {
      "cell_type": "code",
      "execution_count": null,
      "id": "481dd2c1",
      "metadata": {
        "execution": {
          "iopub.execute_input": "2021-12-26T08:03:52.740867Z",
          "iopub.status.busy": "2021-12-26T08:03:52.740133Z",
          "iopub.status.idle": "2021-12-26T08:03:52.965917Z",
          "shell.execute_reply": "2021-12-26T08:03:52.965315Z",
          "shell.execute_reply.started": "2021-12-25T23:25:40.977563Z"
        },
        "papermill": {
          "duration": 0.315533,
          "end_time": "2021-12-26T08:03:52.966066",
          "exception": false,
          "start_time": "2021-12-26T08:03:52.650533",
          "status": "completed"
        },
        "tags": [],
        "id": "481dd2c1",
        "outputId": "21cd5409-5a55-48be-aaf0-a24f7fee9be2"
      },
      "outputs": [
        {
          "data": {
            "image/png": "[encoded data removed]",
            "text/plain": [
              "<Figure size 432x288 with 1 Axes>"
            ]
          },
          "metadata": {
            "needs_background": "light"
          },
          "output_type": "display_data"
        }
      ],
      "source": [
        "# A graph showing the top 10 cities with the highest mean ratings\n",
        "city_rate = df.groupby('list_city').rate.mean().sort_values(ascending = False)[0:9]\n",
        "city_rate.plot(kind='barh').invert_yaxis()\n",
        "plt.show()"
      ]
    },
    {
      "cell_type": "markdown",
      "id": "7e9cafa5",
      "metadata": {
        "papermill": {
          "duration": 0.084615,
          "end_time": "2021-12-26T08:03:53.136482",
          "exception": false,
          "start_time": "2021-12-26T08:03:53.051867",
          "status": "completed"
        },
        "tags": [],
        "id": "7e9cafa5"
      },
      "source": [
        "It looks like the places with the highest average ratings also get the most votes. These cities seem to be home to some popular restaurants which increase the amount of votes and restaurants that get a lot of votes are most likely good places which lead to higher ratings."
      ]
    },
    {
      "cell_type": "code",
      "execution_count": null,
      "id": "5b0b8712",
      "metadata": {
        "execution": {
          "iopub.execute_input": "2021-12-26T08:03:53.310214Z",
          "iopub.status.busy": "2021-12-26T08:03:53.309190Z",
          "iopub.status.idle": "2021-12-26T08:03:53.543399Z",
          "shell.execute_reply": "2021-12-26T08:03:53.543994Z",
          "shell.execute_reply.started": "2021-12-25T23:25:41.157734Z"
        },
        "papermill": {
          "duration": 0.322886,
          "end_time": "2021-12-26T08:03:53.544190",
          "exception": false,
          "start_time": "2021-12-26T08:03:53.221304",
          "status": "completed"
        },
        "tags": [],
        "id": "5b0b8712",
        "outputId": "1f201e69-a056-4263-bb1e-8f8f0d2aea58"
      },
      "outputs": [
        {
          "data": {
            "image/png": "[encoded data removed]",
            "text/plain": [
              "<Figure size 432x288 with 1 Axes>"
            ]
          },
          "metadata": {
            "needs_background": "light"
          },
          "output_type": "display_data"
        }
      ],
      "source": [
        "# A graph showing the cities with the most expensive meals on average\n",
        "city_cost = df.groupby('list_city').cost_for_two.mean().sort_values(ascending = False)[0:9]\n",
        "city_cost.plot(kind='barh').invert_yaxis()\n",
        "plt.show()"
      ]
    },
    {
      "cell_type": "markdown",
      "id": "e81c3db4",
      "metadata": {
        "papermill": {
          "duration": 0.084994,
          "end_time": "2021-12-26T08:03:53.734176",
          "exception": false,
          "start_time": "2021-12-26T08:03:53.649182",
          "status": "completed"
        },
        "tags": [],
        "id": "e81c3db4"
      },
      "source": [
        "Some of the cities with the highest average cost are also some of the cities with the highest amount of votes and ratings. "
      ]
    },
    {
      "cell_type": "code",
      "execution_count": null,
      "id": "6ee9ab2d",
      "metadata": {
        "execution": {
          "iopub.execute_input": "2021-12-26T08:03:53.919900Z",
          "iopub.status.busy": "2021-12-26T08:03:53.908380Z",
          "iopub.status.idle": "2021-12-26T08:03:54.390088Z",
          "shell.execute_reply": "2021-12-26T08:03:54.389253Z",
          "shell.execute_reply.started": "2021-12-25T23:25:41.336367Z"
        },
        "papermill": {
          "duration": 0.569958,
          "end_time": "2021-12-26T08:03:54.390248",
          "exception": false,
          "start_time": "2021-12-26T08:03:53.820290",
          "status": "completed"
        },
        "tags": [],
        "id": "6ee9ab2d",
        "outputId": "d88fdfb4-6033-4f71-be04-2fa955985685"
      },
      "outputs": [
        {
          "data": {
            "text/plain": [
              "<AxesSubplot:xlabel='count', ylabel='name'>"
            ]
          },
          "execution_count": 39,
          "metadata": {},
          "output_type": "execute_result"
        },
        {
          "data": {
            "image/png": "[encoded data removed]",
            "text/plain": [
              "<Figure size 432x288 with 1 Axes>"
            ]
          },
          "metadata": {
            "needs_background": "light"
          },
          "output_type": "display_data"
        }
      ],
      "source": [
        "# A plot showing which restaurants were the most popular\n",
        "sns.countplot(y=df.name, order=df.name.value_counts().iloc[:10].index)"
      ]
    },
    {
      "cell_type": "code",
      "execution_count": null,
      "id": "3c0157c9",
      "metadata": {
        "execution": {
          "iopub.execute_input": "2021-12-26T08:03:54.574779Z",
          "iopub.status.busy": "2021-12-26T08:03:54.573790Z",
          "iopub.status.idle": "2021-12-26T08:03:54.870553Z",
          "shell.execute_reply": "2021-12-26T08:03:54.871589Z",
          "shell.execute_reply.started": "2021-12-25T23:25:41.729704Z"
        },
        "papermill": {
          "duration": 0.389073,
          "end_time": "2021-12-26T08:03:54.871858",
          "exception": false,
          "start_time": "2021-12-26T08:03:54.482785",
          "status": "completed"
        },
        "tags": [],
        "id": "3c0157c9",
        "outputId": "35f2cd50-0571-471a-ce9d-adc3d2950f36"
      },
      "outputs": [
        {
          "data": {
            "text/plain": [
              "<AxesSubplot:xlabel='count', ylabel='rest_type'>"
            ]
          },
          "execution_count": 40,
          "metadata": {},
          "output_type": "execute_result"
        },
        {
          "data": {
            "image/png": "[encoded data removed]",
            "text/plain": [
              "<Figure size 432x288 with 1 Axes>"
            ]
          },
          "metadata": {
            "needs_background": "light"
          },
          "output_type": "display_data"
        }
      ],
      "source": [
        "# A plot showing which restaurant types were the most popular\n",
        "sns.countplot(y=df.rest_type, order=df.rest_type.value_counts().iloc[:10].index)"
      ]
    },
    {
      "cell_type": "markdown",
      "id": "05c22e21",
      "metadata": {
        "papermill": {
          "duration": 0.087541,
          "end_time": "2021-12-26T08:03:55.047265",
          "exception": false,
          "start_time": "2021-12-26T08:03:54.959724",
          "status": "completed"
        },
        "tags": [],
        "id": "05c22e21"
      },
      "source": [
        "With quick bites being the most popular, it seems that these people have busy lives and do not have too much time to just sit down and eat, which also makes online ordering and table booking more valuable."
      ]
    },
    {
      "cell_type": "code",
      "execution_count": null,
      "id": "d7dcef92",
      "metadata": {
        "execution": {
          "iopub.execute_input": "2021-12-26T08:03:55.227852Z",
          "iopub.status.busy": "2021-12-26T08:03:55.227127Z",
          "iopub.status.idle": "2021-12-26T08:03:55.457988Z",
          "shell.execute_reply": "2021-12-26T08:03:55.457137Z",
          "shell.execute_reply.started": "2021-12-25T23:25:42.021024Z"
        },
        "papermill": {
          "duration": 0.322597,
          "end_time": "2021-12-26T08:03:55.458150",
          "exception": false,
          "start_time": "2021-12-26T08:03:55.135553",
          "status": "completed"
        },
        "tags": [],
        "id": "d7dcef92",
        "outputId": "8eb85348-031c-41ef-ba64-9c58e6262f62"
      },
      "outputs": [
        {
          "data": {
            "image/png": "[encoded data removed]",
            "text/plain": [
              "<Figure size 432x288 with 1 Axes>"
            ]
          },
          "metadata": {
            "needs_background": "light"
          },
          "output_type": "display_data"
        }
      ],
      "source": [
        "# A graph showing the restaurant types with the highest cost on average\n",
        "type_cost = df.groupby('rest_type').cost_for_two.mean().sort_values(ascending = False)[0:9]\n",
        "type_cost.plot(kind='barh').invert_yaxis()\n",
        "plt.show()"
      ]
    },
    {
      "cell_type": "markdown",
      "id": "0609ac80",
      "metadata": {
        "papermill": {
          "duration": 0.088005,
          "end_time": "2021-12-26T08:03:55.635030",
          "exception": false,
          "start_time": "2021-12-26T08:03:55.547025",
          "status": "completed"
        },
        "tags": [],
        "id": "0609ac80"
      },
      "source": [
        "As one would expect, fine dining restaurants have the highest average costs"
      ]
    },
    {
      "cell_type": "code",
      "execution_count": null,
      "id": "a52b2d8d",
      "metadata": {
        "execution": {
          "iopub.execute_input": "2021-12-26T08:03:55.815761Z",
          "iopub.status.busy": "2021-12-26T08:03:55.815113Z",
          "iopub.status.idle": "2021-12-26T08:03:56.024821Z",
          "shell.execute_reply": "2021-12-26T08:03:56.024126Z",
          "shell.execute_reply.started": "2021-12-25T23:25:42.240419Z"
        },
        "papermill": {
          "duration": 0.301273,
          "end_time": "2021-12-26T08:03:56.024990",
          "exception": false,
          "start_time": "2021-12-26T08:03:55.723717",
          "status": "completed"
        },
        "tags": [],
        "id": "a52b2d8d",
        "outputId": "5b84b796-22ef-4b1e-cdc5-023d00ec075c"
      },
      "outputs": [
        {
          "data": {
            "image/png": "[encoded data removed]",
            "text/plain": [
              "<Figure size 432x288 with 1 Axes>"
            ]
          },
          "metadata": {
            "needs_background": "light"
          },
          "output_type": "display_data"
        }
      ],
      "source": [
        "# A graph showing which restaurant type got the most number of votes\n",
        "type_votes = df.groupby('rest_type').votes.sum().sort_values(ascending = False)[0:9]\n",
        "type_votes.plot(kind='barh').invert_yaxis()\n",
        "plt.show()"
      ]
    },
    {
      "cell_type": "markdown",
      "id": "c1c7bad5",
      "metadata": {
        "papermill": {
          "duration": 0.092437,
          "end_time": "2021-12-26T08:03:56.208561",
          "exception": false,
          "start_time": "2021-12-26T08:03:56.116124",
          "status": "completed"
        },
        "tags": [],
        "id": "c1c7bad5"
      },
      "source": [
        "It is interesting to see that despite quick bites having the most restaurants, casual dining actually gets the most votes. It looks like casual dining is the favored restaurant type."
      ]
    },
    {
      "cell_type": "code",
      "execution_count": null,
      "id": "113b10e1",
      "metadata": {
        "execution": {
          "iopub.execute_input": "2021-12-26T08:03:56.393052Z",
          "iopub.status.busy": "2021-12-26T08:03:56.392287Z",
          "iopub.status.idle": "2021-12-26T08:03:56.605230Z",
          "shell.execute_reply": "2021-12-26T08:03:56.605731Z",
          "shell.execute_reply.started": "2021-12-25T23:25:42.448346Z"
        },
        "papermill": {
          "duration": 0.307146,
          "end_time": "2021-12-26T08:03:56.605939",
          "exception": false,
          "start_time": "2021-12-26T08:03:56.298793",
          "status": "completed"
        },
        "tags": [],
        "id": "113b10e1",
        "outputId": "c6892808-bee2-4bc6-d1e4-bd524c3bca85"
      },
      "outputs": [
        {
          "data": {
            "image/png": "[encoded data removed]",
            "text/plain": [
              "<Figure size 432x288 with 1 Axes>"
            ]
          },
          "metadata": {
            "needs_background": "light"
          },
          "output_type": "display_data"
        }
      ],
      "source": [
        "# A graph showing which restaurant type had the highest average rating\n",
        "type_rate = df.groupby('rest_type').rate.mean().sort_values(ascending = False)[0:9]\n",
        "type_rate.plot(kind='barh').invert_yaxis()\n",
        "plt.show()"
      ]
    },
    {
      "cell_type": "code",
      "execution_count": null,
      "id": "dbc527b5",
      "metadata": {
        "execution": {
          "iopub.execute_input": "2021-12-26T08:03:56.791464Z",
          "iopub.status.busy": "2021-12-26T08:03:56.790657Z",
          "iopub.status.idle": "2021-12-26T08:03:57.110000Z",
          "shell.execute_reply": "2021-12-26T08:03:57.110517Z",
          "shell.execute_reply.started": "2021-12-25T23:25:42.656358Z"
        },
        "papermill": {
          "duration": 0.414387,
          "end_time": "2021-12-26T08:03:57.110714",
          "exception": false,
          "start_time": "2021-12-26T08:03:56.696327",
          "status": "completed"
        },
        "tags": [],
        "id": "dbc527b5",
        "outputId": "3ddccde4-6392-4ae7-95bc-b9db2a0173f4"
      },
      "outputs": [
        {
          "data": {
            "text/plain": [
              "<AxesSubplot:xlabel='count', ylabel='cuisines'>"
            ]
          },
          "execution_count": 44,
          "metadata": {},
          "output_type": "execute_result"
        },
        {
          "data": {
            "image/png": "[encoded data removed]",
            "text/plain": [
              "<Figure size 432x288 with 1 Axes>"
            ]
          },
          "metadata": {
            "needs_background": "light"
          },
          "output_type": "display_data"
        }
      ],
      "source": [
        "# A plot showing which cusines were the most popular\n",
        "sns.countplot(y=df.cuisines, order=df.cuisines.value_counts().iloc[:10].index)"
      ]
    },
    {
      "cell_type": "code",
      "execution_count": null,
      "id": "cb8a45f2",
      "metadata": {
        "execution": {
          "iopub.execute_input": "2021-12-26T08:03:57.301498Z",
          "iopub.status.busy": "2021-12-26T08:03:57.300741Z",
          "iopub.status.idle": "2021-12-26T08:03:57.548615Z",
          "shell.execute_reply": "2021-12-26T08:03:57.549140Z",
          "shell.execute_reply.started": "2021-12-25T23:25:42.960557Z"
        },
        "papermill": {
          "duration": 0.344396,
          "end_time": "2021-12-26T08:03:57.549337",
          "exception": false,
          "start_time": "2021-12-26T08:03:57.204941",
          "status": "completed"
        },
        "tags": [],
        "id": "cb8a45f2",
        "outputId": "e9ca8070-c148-4408-b0fa-2611ee51c7e3"
      },
      "outputs": [
        {
          "data": {
            "image/png": "[encoded data removed]",
            "text/plain": [
              "<Figure size 432x288 with 1 Axes>"
            ]
          },
          "metadata": {
            "needs_background": "light"
          },
          "output_type": "display_data"
        }
      ],
      "source": [
        "# A graph showing which cuisines were the most expensive\n",
        "cuisines_cost = df.groupby('cuisines').cost_for_two.mean().sort_values(ascending = False)[0:9]\n",
        "cuisines_cost.plot(kind='barh').invert_yaxis()\n",
        "plt.show()"
      ]
    },
    {
      "cell_type": "code",
      "execution_count": null,
      "id": "fd210540",
      "metadata": {
        "execution": {
          "iopub.execute_input": "2021-12-26T08:03:57.740705Z",
          "iopub.status.busy": "2021-12-26T08:03:57.739994Z",
          "iopub.status.idle": "2021-12-26T08:03:57.975772Z",
          "shell.execute_reply": "2021-12-26T08:03:57.976267Z",
          "shell.execute_reply.started": "2021-12-25T23:25:43.202397Z"
        },
        "papermill": {
          "duration": 0.334061,
          "end_time": "2021-12-26T08:03:57.976517",
          "exception": false,
          "start_time": "2021-12-26T08:03:57.642456",
          "status": "completed"
        },
        "tags": [],
        "id": "fd210540",
        "outputId": "83157bec-eee7-4cc2-f2ff-3fe46c2fdd6f"
      },
      "outputs": [
        {
          "data": {
            "image/png": "[encoded data removed]",
            "text/plain": [
              "<Figure size 432x288 with 1 Axes>"
            ]
          },
          "metadata": {
            "needs_background": "light"
          },
          "output_type": "display_data"
        }
      ],
      "source": [
        "# A graph showing which cuisines received the most number of votes\n",
        "cuisines_votes = df.groupby('cuisines').votes.sum().sort_values(ascending = False)[0:9]\n",
        "cuisines_votes.plot(kind='barh').invert_yaxis()\n",
        "plt.show()"
      ]
    },
    {
      "cell_type": "markdown",
      "id": "543b8e0d",
      "metadata": {
        "papermill": {
          "duration": 0.097085,
          "end_time": "2021-12-26T08:03:58.171264",
          "exception": false,
          "start_time": "2021-12-26T08:03:58.074179",
          "status": "completed"
        },
        "tags": [],
        "id": "543b8e0d"
      },
      "source": [
        "North Indian is quite popular so it would make sense that they would get a lot of votes. Casual dining and quick bites are also the most popular restaurant types so it also makes sense that the cuisines that are popular also match that description of being fast and easy to eat."
      ]
    },
    {
      "cell_type": "code",
      "execution_count": null,
      "id": "9aa518e8",
      "metadata": {
        "execution": {
          "iopub.execute_input": "2021-12-26T08:03:58.365958Z",
          "iopub.status.busy": "2021-12-26T08:03:58.365207Z",
          "iopub.status.idle": "2021-12-26T08:03:58.625349Z",
          "shell.execute_reply": "2021-12-26T08:03:58.625914Z",
          "shell.execute_reply.started": "2021-12-25T23:25:43.436759Z"
        },
        "papermill": {
          "duration": 0.358173,
          "end_time": "2021-12-26T08:03:58.626211",
          "exception": false,
          "start_time": "2021-12-26T08:03:58.268038",
          "status": "completed"
        },
        "tags": [],
        "id": "9aa518e8",
        "outputId": "2f9e08f7-042d-4288-fb23-67458bbb6916"
      },
      "outputs": [
        {
          "data": {
            "image/png": "[encoded data removed]",
            "text/plain": [
              "<Figure size 432x288 with 1 Axes>"
            ]
          },
          "metadata": {
            "needs_background": "light"
          },
          "output_type": "display_data"
        }
      ],
      "source": [
        "# A graph showing which cuisines had the highest average rating\n",
        "cuisines_rate = df.groupby('cuisines').rate.mean().sort_values(ascending = False)[0:9]\n",
        "cuisines_rate.plot(kind='barh').invert_yaxis()\n",
        "plt.show()"
      ]
    },
    {
      "cell_type": "markdown",
      "id": "9fd33292",
      "metadata": {
        "papermill": {
          "duration": 0.095896,
          "end_time": "2021-12-26T08:03:58.816903",
          "exception": false,
          "start_time": "2021-12-26T08:03:58.721007",
          "status": "completed"
        },
        "tags": [],
        "id": "9fd33292"
      },
      "source": [
        "Looking at the graphs earlier, it looks like those with variety in their cuisine and restaurant type seem to have higher ratings. To help the model better capture this I decided to create new features that show the number of cuisines and restaurant types each restaurant offers."
      ]
    },
    {
      "cell_type": "markdown",
      "id": "35945a11",
      "metadata": {
        "papermill": {
          "duration": 0.094902,
          "end_time": "2021-12-26T08:03:59.007219",
          "exception": false,
          "start_time": "2021-12-26T08:03:58.912317",
          "status": "completed"
        },
        "tags": [],
        "id": "35945a11"
      },
      "source": [
        "# Feature Engineering"
      ]
    },
    {
      "cell_type": "code",
      "execution_count": null,
      "id": "d7cbf49f",
      "metadata": {
        "execution": {
          "iopub.execute_input": "2021-12-26T08:03:59.210424Z",
          "iopub.status.busy": "2021-12-26T08:03:59.209313Z",
          "iopub.status.idle": "2021-12-26T08:03:59.433922Z",
          "shell.execute_reply": "2021-12-26T08:03:59.433228Z",
          "shell.execute_reply.started": "2021-12-25T23:25:43.680312Z"
        },
        "papermill": {
          "duration": 0.32985,
          "end_time": "2021-12-26T08:03:59.434077",
          "exception": false,
          "start_time": "2021-12-26T08:03:59.104227",
          "status": "completed"
        },
        "tags": [],
        "id": "d7cbf49f"
      },
      "outputs": [],
      "source": [
        "# This creates a new column that contains the values of the cuisines column but in list form\n",
        "df['list_cuisines'] = df['cuisines'].str.split(',')\n",
        "\n",
        "# This creates a new column that contains the values of the rest_type column but in list form\n",
        "df['list_rest_type'] = df['rest_type'].str.split(',')"
      ]
    },
    {
      "cell_type": "code",
      "execution_count": null,
      "id": "d02f62a7",
      "metadata": {
        "execution": {
          "iopub.execute_input": "2021-12-26T08:03:59.635686Z",
          "iopub.status.busy": "2021-12-26T08:03:59.634974Z",
          "iopub.status.idle": "2021-12-26T08:03:59.696879Z",
          "shell.execute_reply": "2021-12-26T08:03:59.697544Z",
          "shell.execute_reply.started": "2021-12-25T23:25:43.909562Z"
        },
        "papermill": {
          "duration": 0.16755,
          "end_time": "2021-12-26T08:03:59.697727",
          "exception": false,
          "start_time": "2021-12-26T08:03:59.530177",
          "status": "completed"
        },
        "tags": [],
        "id": "d02f62a7"
      },
      "outputs": [],
      "source": [
        "# This creates a new column that shows the number of restaurant types a restaurant offers, which I got by getting the length of the list of rest_type\n",
        "df['type_variety'] = df.list_rest_type.str.len()\n",
        "\n",
        "# This creates a new column that shows the number of cuisines a restaurant offers, which I got by getting the length of the list of cuisines\n",
        "df['cuisine_variety'] = df.list_cuisines.str.len()"
      ]
    },
    {
      "cell_type": "markdown",
      "id": "5ffeb749",
      "metadata": {
        "papermill": {
          "duration": 0.094661,
          "end_time": "2021-12-26T08:03:59.888030",
          "exception": false,
          "start_time": "2021-12-26T08:03:59.793369",
          "status": "completed"
        },
        "tags": [],
        "id": "5ffeb749"
      },
      "source": [
        "These ar all the features that I wanted to create so now we can begin to create the model. This starts with the target. I want to find out if a restaurant is good or not so to do this I will make another feature which will show a 1 if the rate is higher than 3.5 and 0 if it is less than 3.5. I chose 3.5 because in the plot which showed the distribution of the rate, 3.5 had a high frequency and seemed like a good middle ground."
      ]
    },
    {
      "cell_type": "code",
      "execution_count": null,
      "id": "f4dd930c",
      "metadata": {
        "execution": {
          "iopub.execute_input": "2021-12-26T08:04:00.086015Z",
          "iopub.status.busy": "2021-12-26T08:04:00.085269Z",
          "iopub.status.idle": "2021-12-26T08:04:00.117286Z",
          "shell.execute_reply": "2021-12-26T08:04:00.117892Z",
          "shell.execute_reply.started": "2021-12-25T23:25:43.981438Z"
        },
        "papermill": {
          "duration": 0.134836,
          "end_time": "2021-12-26T08:04:00.118086",
          "exception": false,
          "start_time": "2021-12-26T08:03:59.983250",
          "status": "completed"
        },
        "tags": [],
        "id": "f4dd930c"
      },
      "outputs": [],
      "source": [
        "#target creation\n",
        "df['isgood'] = df.rate.apply(lambda x: 1 if x>=3.5 else 0)"
      ]
    },
    {
      "cell_type": "markdown",
      "id": "10ce93e7",
      "metadata": {
        "papermill": {
          "duration": 0.096746,
          "end_time": "2021-12-26T08:04:00.311871",
          "exception": false,
          "start_time": "2021-12-26T08:04:00.215125",
          "status": "completed"
        },
        "tags": [],
        "id": "10ce93e7"
      },
      "source": [
        "With the target created we can now begin to pick out the features we want our model to test for and assign the target."
      ]
    },
    {
      "cell_type": "code",
      "execution_count": null,
      "id": "00ccb609",
      "metadata": {
        "execution": {
          "iopub.execute_input": "2021-12-26T08:04:00.507165Z",
          "iopub.status.busy": "2021-12-26T08:04:00.506360Z",
          "iopub.status.idle": "2021-12-26T08:04:00.535299Z",
          "shell.execute_reply": "2021-12-26T08:04:00.535872Z",
          "shell.execute_reply.started": "2021-12-25T23:25:44.016921Z"
        },
        "papermill": {
          "duration": 0.127515,
          "end_time": "2021-12-26T08:04:00.536081",
          "exception": false,
          "start_time": "2021-12-26T08:04:00.408566",
          "status": "completed"
        },
        "tags": [],
        "id": "00ccb609"
      },
      "outputs": [],
      "source": [
        "# Creating a new dataframe with these select features\n",
        "x = df[['online_order','book_table','location','rest_type','cuisines','cost_for_two','list_type','list_city','type_variety','cuisine_variety']]\n",
        "y = df['isgood']"
      ]
    },
    {
      "cell_type": "markdown",
      "id": "315d04c0",
      "metadata": {
        "papermill": {
          "duration": 0.095572,
          "end_time": "2021-12-26T08:04:00.727486",
          "exception": false,
          "start_time": "2021-12-26T08:04:00.631914",
          "status": "completed"
        },
        "tags": [],
        "id": "315d04c0"
      },
      "source": [
        "### Data Encoding\n",
        "Now that I have selected the features I want to test out, I will now encode the categorical values"
      ]
    },
    {
      "cell_type": "code",
      "execution_count": null,
      "id": "54d9e66e",
      "metadata": {
        "execution": {
          "iopub.execute_input": "2021-12-26T08:04:00.922101Z",
          "iopub.status.busy": "2021-12-26T08:04:00.921369Z",
          "iopub.status.idle": "2021-12-26T08:04:00.925685Z",
          "shell.execute_reply": "2021-12-26T08:04:00.926162Z",
          "shell.execute_reply.started": "2021-12-25T23:25:44.049993Z"
        },
        "papermill": {
          "duration": 0.103227,
          "end_time": "2021-12-26T08:04:00.926342",
          "exception": false,
          "start_time": "2021-12-26T08:04:00.823115",
          "status": "completed"
        },
        "tags": [],
        "id": "54d9e66e"
      },
      "outputs": [],
      "source": [
        "# Store a variable that contains the columns with an object datatype\n",
        "object_cols = [cols for cols in x.columns if x[cols].dtype == 'object']"
      ]
    },
    {
      "cell_type": "code",
      "execution_count": null,
      "id": "f1bda53d",
      "metadata": {
        "execution": {
          "iopub.execute_input": "2021-12-26T08:04:01.120260Z",
          "iopub.status.busy": "2021-12-26T08:04:01.119484Z",
          "iopub.status.idle": "2021-12-26T08:04:01.152397Z",
          "shell.execute_reply": "2021-12-26T08:04:01.152928Z",
          "shell.execute_reply.started": "2021-12-25T23:25:44.057804Z"
        },
        "papermill": {
          "duration": 0.132062,
          "end_time": "2021-12-26T08:04:01.153109",
          "exception": false,
          "start_time": "2021-12-26T08:04:01.021047",
          "status": "completed"
        },
        "tags": [],
        "id": "f1bda53d",
        "outputId": "cec54e1e-c6b2-472f-d1e6-3cce6966cb6a"
      },
      "outputs": [
        {
          "data": {
            "text/plain": [
              "[('online_order', 2),\n",
              " ('book_table', 2),\n",
              " ('list_type', 7),\n",
              " ('list_city', 30),\n",
              " ('rest_type', 87),\n",
              " ('location', 92),\n",
              " ('cuisines', 2367)]"
            ]
          },
          "execution_count": 53,
          "metadata": {},
          "output_type": "execute_result"
        }
      ],
      "source": [
        "# used to see which categorical columns have high amounts of unique values\n",
        "object_nunique = list(map(lambda col: x[col].nunique(), object_cols))\n",
        "d = dict(zip(object_cols, object_nunique))\n",
        "\n",
        "# Print number of unique entries by column, in ascending order\n",
        "sorted(d.items(), key=lambda y: y[1])\n"
      ]
    },
    {
      "cell_type": "markdown",
      "id": "238d4ba3",
      "metadata": {
        "papermill": {
          "duration": 0.097631,
          "end_time": "2021-12-26T08:04:01.345375",
          "exception": false,
          "start_time": "2021-12-26T08:04:01.247744",
          "status": "completed"
        },
        "tags": [],
        "id": "238d4ba3"
      },
      "source": [
        "It looks like only online order, book table, and list type have low cardinality, so we can use one hot encoding for this. The rest have high cardinality and will make the dataset very large so I will be using frequency encoding for these instead."
      ]
    },
    {
      "cell_type": "code",
      "execution_count": null,
      "id": "641ea652",
      "metadata": {
        "execution": {
          "iopub.execute_input": "2021-12-26T08:04:01.539734Z",
          "iopub.status.busy": "2021-12-26T08:04:01.538968Z",
          "iopub.status.idle": "2021-12-26T08:04:01.616694Z",
          "shell.execute_reply": "2021-12-26T08:04:01.617227Z",
          "shell.execute_reply.started": "2021-12-25T23:25:44.102653Z"
        },
        "papermill": {
          "duration": 0.176278,
          "end_time": "2021-12-26T08:04:01.617420",
          "exception": false,
          "start_time": "2021-12-26T08:04:01.441142",
          "status": "completed"
        },
        "tags": [],
        "id": "641ea652"
      },
      "outputs": [],
      "source": [
        "#one hot encoding for those with low cardinality\n",
        "x = pd.get_dummies(x, columns = ['online_order','book_table','list_type'])\n",
        "\n",
        "#frequency encoding for those with high cardinality\n",
        "x_count = x.list_city.value_counts().to_dict()\n",
        "x.list_city = x.list_city.map(x_count)\n",
        "\n",
        "x_count1 = x.rest_type.value_counts().to_dict()\n",
        "x.rest_type = x.rest_type.map(x_count1)\n",
        "\n",
        "x_count2 = x.location.value_counts().to_dict()\n",
        "x.location = x.location.map(x_count2)\n",
        "\n",
        "x_count3 = x.cuisines.value_counts().to_dict()\n",
        "x.cuisines = x.cuisines.map(x_count3)"
      ]
    },
    {
      "cell_type": "markdown",
      "id": "b9630552",
      "metadata": {
        "papermill": {
          "duration": 0.095699,
          "end_time": "2021-12-26T08:04:01.808262",
          "exception": false,
          "start_time": "2021-12-26T08:04:01.712563",
          "status": "completed"
        },
        "tags": [],
        "id": "b9630552"
      },
      "source": [
        "# Training\n",
        "Everything is now setup so we can begin testing our models. I will be using and comparing three models namely: Random forest, Decision tree, and XGBoost."
      ]
    },
    {
      "cell_type": "code",
      "execution_count": null,
      "id": "0f148891",
      "metadata": {
        "execution": {
          "iopub.execute_input": "2021-12-26T08:04:02.007028Z",
          "iopub.status.busy": "2021-12-26T08:04:02.006210Z",
          "iopub.status.idle": "2021-12-26T08:04:08.820801Z",
          "shell.execute_reply": "2021-12-26T08:04:08.820226Z",
          "shell.execute_reply.started": "2021-12-25T23:25:44.18336Z"
        },
        "papermill": {
          "duration": 6.916856,
          "end_time": "2021-12-26T08:04:08.820968",
          "exception": false,
          "start_time": "2021-12-26T08:04:01.904112",
          "status": "completed"
        },
        "tags": [],
        "id": "0f148891",
        "outputId": "08547524-256b-4c33-8ef0-5da4e74b8e1b"
      },
      "outputs": [
        {
          "data": {
            "text/plain": [
              "0.8676812718107794"
            ]
          },
          "execution_count": 55,
          "metadata": {},
          "output_type": "execute_result"
        }
      ],
      "source": [
        "# Split the dataset into train and test sets\n",
        "x_train, x_val, y_train, y_val = train_test_split(x, y, test_size = 0.25, random_state = 0)\n",
        "\n",
        "# Identify the model\n",
        "model = RandomForestClassifier(n_estimators=200, random_state = 0)\n",
        "\n",
        "# Fit the model\n",
        "model.fit(x_train, y_train)\n",
        "\n",
        "# Get the prediction and compare accuracy\n",
        "y_pred = model.predict(x_val)\n",
        "acc = accuracy_score(y_pred, y_val)\n",
        "acc"
      ]
    },
    {
      "cell_type": "code",
      "execution_count": null,
      "id": "5fc0d8f9",
      "metadata": {
        "execution": {
          "iopub.execute_input": "2021-12-26T08:04:09.024231Z",
          "iopub.status.busy": "2021-12-26T08:04:09.023525Z",
          "iopub.status.idle": "2021-12-26T08:04:09.158233Z",
          "shell.execute_reply": "2021-12-26T08:04:09.158739Z",
          "shell.execute_reply.started": "2021-12-25T23:29:15.359911Z"
        },
        "papermill": {
          "duration": 0.242969,
          "end_time": "2021-12-26T08:04:09.158938",
          "exception": false,
          "start_time": "2021-12-26T08:04:08.915969",
          "status": "completed"
        },
        "tags": [],
        "id": "5fc0d8f9",
        "outputId": "98937e4b-4d4e-43f9-f6a0-00b31e54f5a8"
      },
      "outputs": [
        {
          "data": {
            "text/plain": [
              "0.8870686312524234"
            ]
          },
          "execution_count": 56,
          "metadata": {},
          "output_type": "execute_result"
        }
      ],
      "source": [
        "# Identify the model\n",
        "model = DecisionTreeClassifier(random_state = 0)\n",
        "\n",
        "# Fit the model\n",
        "model.fit(x_train, y_train)\n",
        "\n",
        "# Get the prediction and compare accuracy\n",
        "y_pred = model.predict(x_val)\n",
        "acc = accuracy_score(y_pred, y_val)\n",
        "acc"
      ]
    },
    {
      "cell_type": "code",
      "execution_count": null,
      "id": "61cd9198",
      "metadata": {
        "execution": {
          "iopub.execute_input": "2021-12-26T08:04:09.355826Z",
          "iopub.status.busy": "2021-12-26T08:04:09.354737Z",
          "iopub.status.idle": "2021-12-26T08:04:11.200258Z",
          "shell.execute_reply": "2021-12-26T08:04:11.199562Z",
          "shell.execute_reply.started": "2021-12-25T23:28:56.32715Z"
        },
        "papermill": {
          "duration": 1.945879,
          "end_time": "2021-12-26T08:04:11.200451",
          "exception": false,
          "start_time": "2021-12-26T08:04:09.254572",
          "status": "completed"
        },
        "tags": [],
        "id": "61cd9198",
        "outputId": "62c804c4-d266-4bd1-f75f-5c2b5e2d25d6"
      },
      "outputs": [
        {
          "name": "stderr",
          "output_type": "stream",
          "text": [
            "/opt/conda/lib/python3.7/site-packages/xgboost/sklearn.py:1224: UserWarning: The use of label encoder in XGBClassifier is deprecated and will be removed in a future release. To remove this warning, do the following: 1) Pass option use_label_encoder=False when constructing XGBClassifier object; and 2) Encode your labels (y) as integers starting with 0, i.e. 0, 1, 2, ..., [num_class - 1].\n",
            "  warnings.warn(label_encoder_deprecation_msg, UserWarning)\n"
          ]
        },
        {
          "name": "stdout",
          "output_type": "stream",
          "text": [
            "[08:04:09] WARNING: ../src/learner.cc:1115: Starting in XGBoost 1.3.0, the default evaluation metric used with the objective 'binary:logistic' was changed from 'error' to 'logloss'. Explicitly set eval_metric if you'd like to restore the old behavior.\n"
          ]
        },
        {
          "data": {
            "text/plain": [
              "0.764540519581233"
            ]
          },
          "execution_count": 57,
          "metadata": {},
          "output_type": "execute_result"
        }
      ],
      "source": [
        "# Identify the model\n",
        "model = XGBClassifier(learning_rate = 0.05, random_state=0)\n",
        "\n",
        "# Fit the model\n",
        "model.fit(x_train, y_train)\n",
        "\n",
        "# Get the prediction and compare accuracy\n",
        "y_pred = model.predict(x_val)\n",
        "acc = accuracy_score(y_pred, y_val)\n",
        "acc"
      ]
    },
    {
      "cell_type": "code",
      "execution_count": null,
      "id": "88598709",
      "metadata": {
        "execution": {
          "iopub.execute_input": "2021-12-26T08:04:11.401100Z",
          "iopub.status.busy": "2021-12-26T08:04:11.398503Z",
          "iopub.status.idle": "2021-12-26T08:04:11.410667Z",
          "shell.execute_reply": "2021-12-26T08:04:11.411197Z",
          "shell.execute_reply.started": "2021-12-25T23:25:50.987772Z"
        },
        "papermill": {
          "duration": 0.112224,
          "end_time": "2021-12-26T08:04:11.411401",
          "exception": false,
          "start_time": "2021-12-26T08:04:11.299177",
          "status": "completed"
        },
        "tags": [],
        "id": "88598709"
      },
      "outputs": [],
      "source": [
        "# Here I am just making a dataset of relevant data for further analysis\n",
        "df.drop(axis=1, columns=['url','address','reviews_list'], inplace = True)"
      ]
    },
    {
      "cell_type": "code",
      "execution_count": null,
      "id": "5674c552",
      "metadata": {
        "execution": {
          "iopub.execute_input": "2021-12-26T08:04:11.613699Z",
          "iopub.status.busy": "2021-12-26T08:04:11.612768Z",
          "iopub.status.idle": "2021-12-26T08:04:12.185742Z",
          "shell.execute_reply": "2021-12-26T08:04:12.184705Z",
          "shell.execute_reply.started": "2021-12-25T23:25:50.989305Z"
        },
        "papermill": {
          "duration": 0.676676,
          "end_time": "2021-12-26T08:04:12.185978",
          "exception": false,
          "start_time": "2021-12-26T08:04:11.509302",
          "status": "completed"
        },
        "tags": [],
        "id": "5674c552"
      },
      "outputs": [],
      "source": [
        "df.to_csv('/kaggle/working/df.csv')"
      ]
    }
  ],
  "metadata": {
    "kernelspec": {
      "display_name": "Python 3",
      "language": "python",
      "name": "python3"
    },
    "language_info": {
      "codemirror_mode": {
        "name": "ipython",
        "version": 3
      },
      "file_extension": ".py",
      "mimetype": "text/x-python",
      "name": "python",
      "nbconvert_exporter": "python",
      "pygments_lexer": "ipython3",
      "version": "3.7.12"
    },
    "papermill": {
      "default_parameters": {},
      "duration": 61.637232,
      "end_time": "2021-12-26T08:04:13.195497",
      "environment_variables": {},
      "exception": null,
      "input_path": "__notebook__.ipynb",
      "output_path": "__notebook__.ipynb",
      "parameters": {},
      "start_time": "2021-12-26T08:03:11.558265",
      "version": "2.3.3"
    },
    "colab": {
      "name": "Zomato-restaurant-classifier.ipynb",
      "provenance": [],
      "collapsed_sections": [
        "2a5b0cc0",
        "35945a11",
        "315d04c0",
        "b9630552"
      ],
      "include_colab_link": true
    }
  },
  "nbformat": 4,
  "nbformat_minor": 5
}